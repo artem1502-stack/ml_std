{
 "cells": [
  {
   "cell_type": "code",
   "execution_count": 9,
   "id": "8d594400",
   "metadata": {},
   "outputs": [],
   "source": [
    "import pandas as pd\n",
    "import numpy as np\n",
    "\n",
    "from sklearn import datasets\n",
    "from sklearn.model_selection import train_test_split\n",
    "from sklearn import metrics\n",
    "from sklearn.datasets import make_moons, load_iris, load_diabetes\n",
    "\n",
    "import matplotlib.pyplot as plt\n",
    "\n",
    "import joblib\n",
    "import torch\n",
    "import pickle\n",
    "import warnings"
   ]
  },
  {
   "cell_type": "code",
   "execution_count": null,
   "id": "8e304c87",
   "metadata": {},
   "outputs": [],
   "source": [
    "pd.options.mode.chained_assignment = None\n",
    "warnings.simplefilter(action='ignore', category=FutureWarning)\n",
    "\n",
    "with open(\"Amazon_products.pkl\", 'rb') as f:\n",
    "    dt = pickle.load(f)"
   ]
  },
  {
   "cell_type": "code",
   "execution_count": 31,
   "outputs": [
    {
     "data": {
      "text/plain": "            asin                                              title   price  \\\n0     B0DJK7NW1J  15.6 Inch Laptops, Windows 11 Laptop Computers...  199.98   \n1     B0BS4BP8FB  Acer Aspire 3 A315-24P-R7VH Slim Laptop | 15.6...  279.99   \n2     B0DKDY78K3  Newest Gaming Laptop, Laptop with AMD Ryzen 7 ...  649.99   \n3     B0CPL25J3W  HP Portable Laptop, Student and Business, 14\" ...  197.35   \n4     B0947BJ67M  HP 14 Laptop, Intel Celeron N4020, 4 GB RAM, 6...  176.00   \n...          ...                                                ...     ...   \n1237  B0B5GRGCX5  Lenovo L15 Portable Monitor, 15.6” Display, Fu...  162.00   \n1238  B0CH9XW8RK  ARZOPA Portable Monitor 15.6'' FHD 1080P - Ult...   85.99   \n1239  B0CY896H5G  Laptop Screen Extender 14\" 1080P FHD IPS, Port...  299.99   \n1240  B0C77WJ6F5  Yodoit Portable Monitor for Laptop 1920×1080 1...   49.99   \n1241  B0966YYP65  ASUS ZenScreen 15.6” 1080P Portable Monitor (M...  199.99   \n\n     list_price              rating reviews sold_past_month  is_bestseller  \\\n0        679.99  4.4 out of 5 stars      48            100+          False   \n1        321.99  4.4 out of 5 stars  39,243             8K+          False   \n2      1,699.99  4.8 out of 5 stars      18            100+          False   \n3        269.00  4.1 out of 5 stars   1,678             1K+          False   \n4        209.99  4.0 out of 5 stars   1,861             4K+          False   \n...         ...                 ...     ...             ...            ...   \n1237     180.44  4.3 out of 5 stars      46            500+          False   \n1238        NaN  4.4 out of 5 stars   1,092             3K+          False   \n1239        NaN  4.4 out of 5 stars     422             1K+          False   \n1240      69.99  4.0 out of 5 stars     416             1K+          False   \n1241        NaN  4.3 out of 5 stars     854            400+          False   \n\n      is_prime  is_amazon_choice  has_sustainability_features  \\\n0        False             False                        False   \n1        False              True                        False   \n2        False             False                        False   \n3        False             False                        False   \n4        False             False                        False   \n...        ...               ...                          ...   \n1237     False             False                        False   \n1238      True             False                        False   \n1239      True             False                        False   \n1240      True             False                        False   \n1241      True             False                        False   \n\n     available_offers amazon_choice_type brand free_delivery_date  \\\n0                 NaN                NaN   NaN                NaN   \n1                   6       Overall Pick   NaN                NaN   \n2                 NaN                NaN   NaN                NaN   \n3                  25                NaN   NaN                NaN   \n4                  50                NaN   NaN                NaN   \n...               ...                ...   ...                ...   \n1237               28                NaN   NaN                NaN   \n1238                4                NaN   NaN        Tue, Nov 19   \n1239                3                NaN   NaN        Tue, Nov 19   \n1240              NaN                NaN   NaN        Tue, Nov 19   \n1241               41                NaN   NaN        Tue, Nov 19   \n\n     fastest_delivery_date  \n0                      NaN  \n1                      NaN  \n2                      NaN  \n3                      NaN  \n4                      NaN  \n...                    ...  \n1237                   NaN  \n1238                   NaN  \n1239                   NaN  \n1240                   NaN  \n1241                   NaN  \n\n[1242 rows x 16 columns]",
      "text/html": "<div>\n<style scoped>\n    .dataframe tbody tr th:only-of-type {\n        vertical-align: middle;\n    }\n\n    .dataframe tbody tr th {\n        vertical-align: top;\n    }\n\n    .dataframe thead th {\n        text-align: right;\n    }\n</style>\n<table border=\"1\" class=\"dataframe\">\n  <thead>\n    <tr style=\"text-align: right;\">\n      <th></th>\n      <th>asin</th>\n      <th>title</th>\n      <th>price</th>\n      <th>list_price</th>\n      <th>rating</th>\n      <th>reviews</th>\n      <th>sold_past_month</th>\n      <th>is_bestseller</th>\n      <th>is_prime</th>\n      <th>is_amazon_choice</th>\n      <th>has_sustainability_features</th>\n      <th>available_offers</th>\n      <th>amazon_choice_type</th>\n      <th>brand</th>\n      <th>free_delivery_date</th>\n      <th>fastest_delivery_date</th>\n    </tr>\n  </thead>\n  <tbody>\n    <tr>\n      <th>0</th>\n      <td>B0DJK7NW1J</td>\n      <td>15.6 Inch Laptops, Windows 11 Laptop Computers...</td>\n      <td>199.98</td>\n      <td>679.99</td>\n      <td>4.4 out of 5 stars</td>\n      <td>48</td>\n      <td>100+</td>\n      <td>False</td>\n      <td>False</td>\n      <td>False</td>\n      <td>False</td>\n      <td>NaN</td>\n      <td>NaN</td>\n      <td>NaN</td>\n      <td>NaN</td>\n      <td>NaN</td>\n    </tr>\n    <tr>\n      <th>1</th>\n      <td>B0BS4BP8FB</td>\n      <td>Acer Aspire 3 A315-24P-R7VH Slim Laptop | 15.6...</td>\n      <td>279.99</td>\n      <td>321.99</td>\n      <td>4.4 out of 5 stars</td>\n      <td>39,243</td>\n      <td>8K+</td>\n      <td>False</td>\n      <td>False</td>\n      <td>True</td>\n      <td>False</td>\n      <td>6</td>\n      <td>Overall Pick</td>\n      <td>NaN</td>\n      <td>NaN</td>\n      <td>NaN</td>\n    </tr>\n    <tr>\n      <th>2</th>\n      <td>B0DKDY78K3</td>\n      <td>Newest Gaming Laptop, Laptop with AMD Ryzen 7 ...</td>\n      <td>649.99</td>\n      <td>1,699.99</td>\n      <td>4.8 out of 5 stars</td>\n      <td>18</td>\n      <td>100+</td>\n      <td>False</td>\n      <td>False</td>\n      <td>False</td>\n      <td>False</td>\n      <td>NaN</td>\n      <td>NaN</td>\n      <td>NaN</td>\n      <td>NaN</td>\n      <td>NaN</td>\n    </tr>\n    <tr>\n      <th>3</th>\n      <td>B0CPL25J3W</td>\n      <td>HP Portable Laptop, Student and Business, 14\" ...</td>\n      <td>197.35</td>\n      <td>269.00</td>\n      <td>4.1 out of 5 stars</td>\n      <td>1,678</td>\n      <td>1K+</td>\n      <td>False</td>\n      <td>False</td>\n      <td>False</td>\n      <td>False</td>\n      <td>25</td>\n      <td>NaN</td>\n      <td>NaN</td>\n      <td>NaN</td>\n      <td>NaN</td>\n    </tr>\n    <tr>\n      <th>4</th>\n      <td>B0947BJ67M</td>\n      <td>HP 14 Laptop, Intel Celeron N4020, 4 GB RAM, 6...</td>\n      <td>176.00</td>\n      <td>209.99</td>\n      <td>4.0 out of 5 stars</td>\n      <td>1,861</td>\n      <td>4K+</td>\n      <td>False</td>\n      <td>False</td>\n      <td>False</td>\n      <td>False</td>\n      <td>50</td>\n      <td>NaN</td>\n      <td>NaN</td>\n      <td>NaN</td>\n      <td>NaN</td>\n    </tr>\n    <tr>\n      <th>...</th>\n      <td>...</td>\n      <td>...</td>\n      <td>...</td>\n      <td>...</td>\n      <td>...</td>\n      <td>...</td>\n      <td>...</td>\n      <td>...</td>\n      <td>...</td>\n      <td>...</td>\n      <td>...</td>\n      <td>...</td>\n      <td>...</td>\n      <td>...</td>\n      <td>...</td>\n      <td>...</td>\n    </tr>\n    <tr>\n      <th>1237</th>\n      <td>B0B5GRGCX5</td>\n      <td>Lenovo L15 Portable Monitor, 15.6” Display, Fu...</td>\n      <td>162.00</td>\n      <td>180.44</td>\n      <td>4.3 out of 5 stars</td>\n      <td>46</td>\n      <td>500+</td>\n      <td>False</td>\n      <td>False</td>\n      <td>False</td>\n      <td>False</td>\n      <td>28</td>\n      <td>NaN</td>\n      <td>NaN</td>\n      <td>NaN</td>\n      <td>NaN</td>\n    </tr>\n    <tr>\n      <th>1238</th>\n      <td>B0CH9XW8RK</td>\n      <td>ARZOPA Portable Monitor 15.6'' FHD 1080P - Ult...</td>\n      <td>85.99</td>\n      <td>NaN</td>\n      <td>4.4 out of 5 stars</td>\n      <td>1,092</td>\n      <td>3K+</td>\n      <td>False</td>\n      <td>True</td>\n      <td>False</td>\n      <td>False</td>\n      <td>4</td>\n      <td>NaN</td>\n      <td>NaN</td>\n      <td>Tue, Nov 19</td>\n      <td>NaN</td>\n    </tr>\n    <tr>\n      <th>1239</th>\n      <td>B0CY896H5G</td>\n      <td>Laptop Screen Extender 14\" 1080P FHD IPS, Port...</td>\n      <td>299.99</td>\n      <td>NaN</td>\n      <td>4.4 out of 5 stars</td>\n      <td>422</td>\n      <td>1K+</td>\n      <td>False</td>\n      <td>True</td>\n      <td>False</td>\n      <td>False</td>\n      <td>3</td>\n      <td>NaN</td>\n      <td>NaN</td>\n      <td>Tue, Nov 19</td>\n      <td>NaN</td>\n    </tr>\n    <tr>\n      <th>1240</th>\n      <td>B0C77WJ6F5</td>\n      <td>Yodoit Portable Monitor for Laptop 1920×1080 1...</td>\n      <td>49.99</td>\n      <td>69.99</td>\n      <td>4.0 out of 5 stars</td>\n      <td>416</td>\n      <td>1K+</td>\n      <td>False</td>\n      <td>True</td>\n      <td>False</td>\n      <td>False</td>\n      <td>NaN</td>\n      <td>NaN</td>\n      <td>NaN</td>\n      <td>Tue, Nov 19</td>\n      <td>NaN</td>\n    </tr>\n    <tr>\n      <th>1241</th>\n      <td>B0966YYP65</td>\n      <td>ASUS ZenScreen 15.6” 1080P Portable Monitor (M...</td>\n      <td>199.99</td>\n      <td>NaN</td>\n      <td>4.3 out of 5 stars</td>\n      <td>854</td>\n      <td>400+</td>\n      <td>False</td>\n      <td>True</td>\n      <td>False</td>\n      <td>False</td>\n      <td>41</td>\n      <td>NaN</td>\n      <td>NaN</td>\n      <td>Tue, Nov 19</td>\n      <td>NaN</td>\n    </tr>\n  </tbody>\n</table>\n<p>1242 rows × 16 columns</p>\n</div>"
     },
     "execution_count": 31,
     "metadata": {},
     "output_type": "execute_result"
    }
   ],
   "source": [
    "dt"
   ],
   "metadata": {
    "collapsed": false
   }
  },
  {
   "cell_type": "code",
   "execution_count": 11,
   "id": "c8e81fb5",
   "metadata": {},
   "outputs": [],
   "source": [
    "all_dt = dt[[\"price\", \"list_price\", \"rating\", \"sold_past_month\", \"reviews\", \"is_bestseller\", \"is_prime\", \"is_amazon_choice\"]]"
   ]
  },
  {
   "cell_type": "code",
   "execution_count": 13,
   "id": "5c859719",
   "metadata": {},
   "outputs": [],
   "source": [
    "def str_to_float(s):\n",
    "    if isinstance(s, str):\n",
    "        s = float(\"\".join(s.split(',')))\n",
    "    return s\n",
    "\n",
    "def stars_to_rating(s):\n",
    "    if isinstance(s, str):\n",
    "        r = float(s.split()[0])\n",
    "        return int(r >= 4.5)\n",
    "    return s\n",
    "\n",
    "def spm(s):\n",
    "    if isinstance(s, str):\n",
    "        if s[-2] == \"K\":\n",
    "            return int(s[:-2]) * 1000\n",
    "        return int(s[:-1])\n",
    "    return s"
   ]
  },
  {
   "cell_type": "code",
   "execution_count": 16,
   "id": "0a60e032",
   "metadata": {},
   "outputs": [],
   "source": [
    "all_dt.dropna(inplace=True, subset=['rating'])"
   ]
  },
  {
   "cell_type": "code",
   "execution_count": 18,
   "outputs": [
    {
     "data": {
      "text/plain": "       price  rating  sold_past_month\n0     199.98       0            100.0\n1     279.99       0           8000.0\n2     649.99       1            100.0\n3     197.35       0           1000.0\n4     176.00       0           4000.0\n...      ...     ...              ...\n1237  162.00       0            500.0\n1238   85.99       0           3000.0\n1239  299.99       0           1000.0\n1240   49.99       0           1000.0\n1241  199.99       0            400.0\n\n[1224 rows x 3 columns]",
      "text/html": "<div>\n<style scoped>\n    .dataframe tbody tr th:only-of-type {\n        vertical-align: middle;\n    }\n\n    .dataframe tbody tr th {\n        vertical-align: top;\n    }\n\n    .dataframe thead th {\n        text-align: right;\n    }\n</style>\n<table border=\"1\" class=\"dataframe\">\n  <thead>\n    <tr style=\"text-align: right;\">\n      <th></th>\n      <th>price</th>\n      <th>rating</th>\n      <th>sold_past_month</th>\n    </tr>\n  </thead>\n  <tbody>\n    <tr>\n      <th>0</th>\n      <td>199.98</td>\n      <td>0</td>\n      <td>100.0</td>\n    </tr>\n    <tr>\n      <th>1</th>\n      <td>279.99</td>\n      <td>0</td>\n      <td>8000.0</td>\n    </tr>\n    <tr>\n      <th>2</th>\n      <td>649.99</td>\n      <td>1</td>\n      <td>100.0</td>\n    </tr>\n    <tr>\n      <th>3</th>\n      <td>197.35</td>\n      <td>0</td>\n      <td>1000.0</td>\n    </tr>\n    <tr>\n      <th>4</th>\n      <td>176.00</td>\n      <td>0</td>\n      <td>4000.0</td>\n    </tr>\n    <tr>\n      <th>...</th>\n      <td>...</td>\n      <td>...</td>\n      <td>...</td>\n    </tr>\n    <tr>\n      <th>1237</th>\n      <td>162.00</td>\n      <td>0</td>\n      <td>500.0</td>\n    </tr>\n    <tr>\n      <th>1238</th>\n      <td>85.99</td>\n      <td>0</td>\n      <td>3000.0</td>\n    </tr>\n    <tr>\n      <th>1239</th>\n      <td>299.99</td>\n      <td>0</td>\n      <td>1000.0</td>\n    </tr>\n    <tr>\n      <th>1240</th>\n      <td>49.99</td>\n      <td>0</td>\n      <td>1000.0</td>\n    </tr>\n    <tr>\n      <th>1241</th>\n      <td>199.99</td>\n      <td>0</td>\n      <td>400.0</td>\n    </tr>\n  </tbody>\n</table>\n<p>1224 rows × 3 columns</p>\n</div>"
     },
     "execution_count": 18,
     "metadata": {},
     "output_type": "execute_result"
    }
   ],
   "source": [
    "\n",
    "def upd_dt(X):\n",
    "    X[\"price\"] = X[\"price\"].apply(str_to_float)\n",
    "    X[\"rating\"] = X['rating'].apply(stars_to_rating)\n",
    "    X['sold_past_month'] = X['sold_past_month'].apply(spm)\n",
    "    return X\n",
    "\n",
    "all_dt = upd_dt(all_dt)\n",
    "all_dt"
   ],
   "metadata": {
    "collapsed": false
   }
  },
  {
   "cell_type": "code",
   "execution_count": 20,
   "outputs": [
    {
     "data": {
      "text/plain": "       price  rating  sold_past_month\n0     199.98       0            100.0\n1     279.99       0           8000.0\n2     649.99       1            100.0\n3     197.35       0           1000.0\n4     176.00       0           4000.0\n...      ...     ...              ...\n1237  162.00       0            500.0\n1238   85.99       0           3000.0\n1239  299.99       0           1000.0\n1240   49.99       0           1000.0\n1241  199.99       0            400.0\n\n[1224 rows x 3 columns]",
      "text/html": "<div>\n<style scoped>\n    .dataframe tbody tr th:only-of-type {\n        vertical-align: middle;\n    }\n\n    .dataframe tbody tr th {\n        vertical-align: top;\n    }\n\n    .dataframe thead th {\n        text-align: right;\n    }\n</style>\n<table border=\"1\" class=\"dataframe\">\n  <thead>\n    <tr style=\"text-align: right;\">\n      <th></th>\n      <th>price</th>\n      <th>rating</th>\n      <th>sold_past_month</th>\n    </tr>\n  </thead>\n  <tbody>\n    <tr>\n      <th>0</th>\n      <td>199.98</td>\n      <td>0</td>\n      <td>100.0</td>\n    </tr>\n    <tr>\n      <th>1</th>\n      <td>279.99</td>\n      <td>0</td>\n      <td>8000.0</td>\n    </tr>\n    <tr>\n      <th>2</th>\n      <td>649.99</td>\n      <td>1</td>\n      <td>100.0</td>\n    </tr>\n    <tr>\n      <th>3</th>\n      <td>197.35</td>\n      <td>0</td>\n      <td>1000.0</td>\n    </tr>\n    <tr>\n      <th>4</th>\n      <td>176.00</td>\n      <td>0</td>\n      <td>4000.0</td>\n    </tr>\n    <tr>\n      <th>...</th>\n      <td>...</td>\n      <td>...</td>\n      <td>...</td>\n    </tr>\n    <tr>\n      <th>1237</th>\n      <td>162.00</td>\n      <td>0</td>\n      <td>500.0</td>\n    </tr>\n    <tr>\n      <th>1238</th>\n      <td>85.99</td>\n      <td>0</td>\n      <td>3000.0</td>\n    </tr>\n    <tr>\n      <th>1239</th>\n      <td>299.99</td>\n      <td>0</td>\n      <td>1000.0</td>\n    </tr>\n    <tr>\n      <th>1240</th>\n      <td>49.99</td>\n      <td>0</td>\n      <td>1000.0</td>\n    </tr>\n    <tr>\n      <th>1241</th>\n      <td>199.99</td>\n      <td>0</td>\n      <td>400.0</td>\n    </tr>\n  </tbody>\n</table>\n<p>1224 rows × 3 columns</p>\n</div>"
     },
     "execution_count": 20,
     "metadata": {},
     "output_type": "execute_result"
    }
   ],
   "source": [
    "all_dt"
   ],
   "metadata": {
    "collapsed": false
   }
  },
  {
   "cell_type": "code",
   "execution_count": 19,
   "id": "133368ee",
   "metadata": {},
   "outputs": [],
   "source": [
    "mean_price = all_dt['price'].mean()\n",
    "mean_spm = all_dt[\"sold_past_month\"].mean()\n",
    "\n",
    "all_dt['price'].fillna(mean_price, inplace=True)\n",
    "# all_dt[\"rating\"].fillna(mean_rating, inplace=True)\n",
    "all_dt[\"sold_past_month\"].fillna(mean_spm, inplace=True)"
   ]
  },
  {
   "cell_type": "code",
   "execution_count": 21,
   "id": "62f2a559",
   "metadata": {},
   "outputs": [],
   "source": [
    "X = torch.Tensor(all_dt[[\"price\", \"sold_past_month\"]].to_numpy())\n",
    "y = torch.Tensor(all_dt[\"rating\"].to_numpy())"
   ]
  },
  {
   "cell_type": "code",
   "execution_count": 22,
   "id": "0f7dd51f",
   "metadata": {},
   "outputs": [],
   "source": [
    "X_train, X_test, y_train, y_test = train_test_split(X, y, test_size=0.25)"
   ]
  },
  {
   "cell_type": "code",
   "execution_count": 27,
   "id": "4b92041a",
   "metadata": {},
   "outputs": [],
   "source": [
    "class OurNonLinearNet(torch.nn.Module):\n",
    "    loss_fun = torch.nn.BCEWithLogitsLoss()\n",
    "    def __init__(self, input_features, out_features, hidden_units):\n",
    "        super().__init__()\n",
    "        self.fc1 = torch.nn.Linear(input_features, hidden_units)\n",
    "        self.relu1 = torch.nn.ReLU()\n",
    "        self.fc2 = torch.nn.Linear(hidden_units, hidden_units)\n",
    "        self.relu2 = torch.nn.ReLU()\n",
    "        self.fc3 = torch.nn.Linear(hidden_units, out_features)\n",
    "        self.optimizer = torch.optim.SGD(self.parameters(), lr=0.005)\n",
    "\n",
    "\n",
    "    def forward(self, x):\n",
    "        x = self.relu1(self.fc1(x))\n",
    "        x = self.relu2(self.fc2(x))\n",
    "        x = self.fc3(x)\n",
    "        return x\n",
    "\n",
    "\n",
    "    def fit(self, X, y, n_epochs=500, print_loss=True):\n",
    "        for epoch in range(n_epochs+1):\n",
    "\n",
    "            self.train()\n",
    "            y_logits = self(X).squeeze()\n",
    "            loss = self.loss_fun(y_logits, y)\n",
    "            self.optimizer.zero_grad()\n",
    "            loss.backward()\n",
    "            self.optimizer.step()\n",
    "            if print_loss and (epoch % 20 == 0):\n",
    "                print(f\"Epoch {epoch}: loss = {loss:.5f}\")\n",
    "\n",
    "    def predict(self, x):\n",
    "        return torch.round(torch.sigmoid(self.forward(x)))\n",
    "\n",
    "\n",
    "    def predict_from_logit(self, x_logit):\n",
    "        return torch.round(torch.sigmoid(x_logit))"
   ]
  },
  {
   "cell_type": "code",
   "execution_count": 28,
   "id": "07520f9a",
   "metadata": {},
   "outputs": [],
   "source": [
    "net = OurNonLinearNet(2, 1, 800)"
   ]
  },
  {
   "cell_type": "code",
   "execution_count": 79,
   "id": "ca0dc0fe",
   "metadata": {},
   "outputs": [],
   "source": [
    "def learn_process(model, optimizer, n_epochs, X_train, y_train):\n",
    "    for epoch in range(n_epochs+1):\n",
    "\n",
    "        model.train()\n",
    "\n",
    "        y_logits = model(X_train).squeeze()\n",
    "#         print(y_logits)\n",
    "        print(y_train)\n",
    "        break\n",
    "        loss = loss_fun(y_logits, y_train)\n",
    "\n",
    "\n",
    "        optimizer.zero_grad()\n",
    "        loss.backward()\n",
    "        optimizer.step()\n",
    "\n",
    "        if epoch % 20 == 0:\n",
    "            print(f\"Epoch {epoch}: loss = {loss:.5f}\")"
   ]
  },
  {
   "cell_type": "code",
   "execution_count": 29,
   "id": "1f780569",
   "metadata": {},
   "outputs": [
    {
     "name": "stdout",
     "output_type": "stream",
     "text": [
      "Epoch 0: loss = 13.83124\n",
      "Epoch 20: loss = 2.36554\n",
      "Epoch 40: loss = 2.38020\n",
      "Epoch 60: loss = 2.37994\n",
      "Epoch 80: loss = 2.37960\n",
      "Epoch 100: loss = 2.37927\n",
      "Epoch 120: loss = 2.37894\n",
      "Epoch 140: loss = 2.37861\n",
      "Epoch 160: loss = 2.37828\n",
      "Epoch 180: loss = 2.37795\n",
      "Epoch 200: loss = 2.37762\n",
      "Epoch 220: loss = 2.37729\n",
      "Epoch 240: loss = 2.37696\n",
      "Epoch 260: loss = 2.37664\n",
      "Epoch 280: loss = 2.37631\n",
      "Epoch 300: loss = 2.37598\n",
      "Epoch 320: loss = 2.37565\n",
      "Epoch 340: loss = 2.37532\n",
      "Epoch 360: loss = 2.37500\n",
      "Epoch 380: loss = 2.37467\n",
      "Epoch 400: loss = 2.37434\n",
      "Epoch 420: loss = 2.37401\n",
      "Epoch 440: loss = 2.37368\n",
      "Epoch 460: loss = 2.37336\n",
      "Epoch 480: loss = 2.37303\n",
      "Epoch 500: loss = 2.37270\n"
     ]
    }
   ],
   "source": [
    "net.fit(X_train, y_train)"
   ]
  },
  {
   "cell_type": "code",
   "execution_count": 80,
   "id": "dae584be",
   "metadata": {},
   "outputs": [
    {
     "name": "stdout",
     "output_type": "stream",
     "text": [
      "tensor([1., 1., 1., 1., 0., 1., 1., 1., 0., 0., 1., 1., 1., 1., 1., 1., 0., 0.,\n",
      "        1., 1., 1., 0., 0., 1., 0., 0., 1., 0., 1., 1., 0., 1., 0., 1., 1., 1.,\n",
      "        1., 1., 1., 1., 0., 0., 0., 0., 0., 0., 0., 0., 1., 0., 0., 1., 1., 1.,\n",
      "        0., 0., 1., 0., 1., 1., 0., 1., 1., 1., 0., 0., 1., 0., 0., 0., 1., 1.,\n",
      "        1., 0., 0., 1., 0., 0., 0., 1., 0., 1., nan, 0., 0., 0., 0., 1., 0., 0.,\n",
      "        1., 0., 0., 1., 0., 1., 0., 0., 1., 1., 1., 1., 0., 1., 0., 0., 0., 0.,\n",
      "        0., 0., 1., 0., 1., 0., nan, 0., 0., 0., 1., 1., 1., 1., 1., 1., 0., 0.,\n",
      "        1., 0., 1., 1., 0., 1., 1., 1., 1., 0., 1., 0., 1., 1., 0., 1., 1., 1.,\n",
      "        1., 1., 0., 1., 1., 1., 0., 1., 1., 1., 0., 0., 1., 0., 0., 1., 1., 0.,\n",
      "        1., 1., 0., 0., 0., 1., 1., 0., 0., 0., 0., 1., 0., 1., 1., 0., 1., 1.,\n",
      "        1., 0., 1., nan, 1., 0., 1., 0., 0., 1., 1., 0., 0., 1., 0., 0., 1., 1.,\n",
      "        1., 1., 1., 1., 0., 0., 0., 1., 0., 0., 1., 1., 0., 1., 1., 1., 1., 1.,\n",
      "        0., 1., 0., 1., 0., 0., 0., 1., 1., 0., 1., 0., 1., 1., 1., 0., 1., 0.,\n",
      "        1., 0., 1., 1., 0., 0., 1., 0., 1., 1., 1., 1., 0., 1., 0., 1., 0., 0.,\n",
      "        0., 1., 1., 0., 1., 1., 1., 1., 0., 0., 0., 1., 0., 1., 0., 0., 1., 1.,\n",
      "        1., 0., 1., 1., 1., 0., 1., nan, 1., 1., 1., 1., 0., 1., 1., 1., 0., 0.,\n",
      "        1., 0., 0., 1., 0., 1., 1., 1., 0., 1., 1., 1., 1., 1., 1., 1., 1., 0.,\n",
      "        1., nan, 1., 0., 1., 0., 1., 1., 0., 0., 1., 1., 1., 1., 1., 0., 1., 0.,\n",
      "        1., 1., 0., 1., 0., 1., 1., 1., 0., 1., 1., 1., 0., 1., 0., 0., 0., 0.,\n",
      "        0., 1., 0., 0., 0., 1., 0., 1., 0., 0., 1., 1., 1., 0., 0., 1., 1., 1.,\n",
      "        1., 1., 0., 1., 1., 1., 1., 1., 0., 0., 0., 1., 0., 0., 1., 1., 0., 0.,\n",
      "        1., 0., 1., 1., 1., 0., 0., 0., 0., 0., 1., 1., 0., 1., 1., 1., 1., 1.,\n",
      "        1., 1., 1., 0., 1., 1., 1., 0., 1., 1., 1., 1., 0., 1., 0., 1., 1., 0.,\n",
      "        nan, 1., 1., 0., 0., 1., 0., 1., 0., 1., 1., 1., 1., 0., 1., 1., 0., 1.,\n",
      "        1., 0., 1., 0., 1., 1., 1., 1., 0., 1., 0., 0., 1., 0., 0., 0., 1., 0.,\n",
      "        1., 0., 1., 0., 0., 0., 1., 0., 1., 0., 0., 0., 0., 0., 0., 0., 1., 0.,\n",
      "        0., 0., 0., 0., 0., 1., 1., 0., 1., 0., 0., 0., 0., 1., 0., 1., 1., 0.,\n",
      "        0., 1., 1., 1., 0., 0., 1., 1., 0., 1., 1., 0., 1., 1., 1., 1., 0., 0.,\n",
      "        0., 0., 0., 0., 1., 0., 1., 1., 1., 0., 0., 0., 1., 1., 1., 1., 0., 1.,\n",
      "        1., 1., 1., 1., 1., 1., 0., 1., 0., 0., 1., 1., 0., 0., 1., 1., 1., 0.,\n",
      "        1., 0., 0., 1., 1., 1., 0., 0., 1., 0., 1., 1., 1., 0., 0., 0., 1., 0.,\n",
      "        1., 0., 1., 1., nan, 1., 1., 1., 1., 1., 1., nan, 1., 0., 1., 1., 0., 0.,\n",
      "        1., 0., 0., 0., 0., 0., 1., 1., 1., 1., 0., 0., 1., 1., 0., 0., 1., 1.,\n",
      "        0., 1., 0., 1., 0., 0., 0., 1., 0., 0., 0., 1., 0., 1., 0., 1., nan, 1.,\n",
      "        0., 1., 0., 0., 0., 1., 0., 0., 1., 0., 0., 0., 0., 0., 0., 1., 1., 0.,\n",
      "        0., 1., 0., 1., 0., 0., 0., 0., 1., 1., 1., 0., 0., 0., 1., 0., 1., 1.,\n",
      "        0., 1., 1., 0., 0., 1., 1., 1., 1., 1., 1., 0., 1., 0., 0., 0., 0., 1.,\n",
      "        1., 0., 1., 1., 0., 0., 1., 1., 1., 1., 0., 0., 1., 1., 1., 0., 0., 1.,\n",
      "        0., 1., 1., 0., 0., 0., 1., 0., 0., 0., 0., 1., 0., 0., nan, 1., 1., 0.,\n",
      "        0., 0., 0., 0., 1., nan, 1., 0., 1., 1., 1., 0., 0., 1., 1., 0., 0., 1.,\n",
      "        0., 1., 1., 1., 1., 0., 1., 0., 0., 1., 1., 0., 1., 0., 0., 0., 0., 1.,\n",
      "        1., 1., 1., 1., 1., 0., 0., 1., 0., 1., 0., 1., 1., 0., 1., 1., 0., 1.,\n",
      "        1., 0., 0., 1., 1., 1., 0., 1., 1., 1., 0., 1., 0., 1., 0., 1., 0., 0.,\n",
      "        0., 1., 1., 1., 0., 1., 1., 1., 0., 0., 0., 0., 0., 0., 1., 1., 1., 1.,\n",
      "        1., 1., 1., 1., 1., 1., 0., 1., 1., 1., 1., 1., 0., 0., 1., 1., 0., 1.,\n",
      "        1., 1., 1., 1., 0., 0., 1., 1., 0., 0., 0., 1., 1., 0., 1., 1., 0., 0.,\n",
      "        1., 0., 1., 0., 1., 0., 0., 1., 1., 1., 1., 1., 0., 1., 1., 1., 0., 1.,\n",
      "        0., 1., 0., 1., 1., 1., 1., 0., 1., 1., 1., 0., 0., 0., 1., 1., 1., 1.,\n",
      "        0., 0., 1., 0., 1., 1., 1., 0., 0., 0., 0., 1., 1., 0., 0., 0., 0., 1.,\n",
      "        0., 0., 0., 0., 1., 1., 0., 0., 0., 0., 1., 0., 0., 0., 0., 0., 1., 0.,\n",
      "        1., 1., 1., 1., 0., 0., 0., 1., 1., 1., 0., 0., 0., 1., 1., 0., 1., 1.,\n",
      "        1., 1., 1., 1., 1., 1., 1., 1., 1., 0., 1., 1., 0.])\n"
     ]
    }
   ],
   "source": []
  },
  {
   "cell_type": "code",
   "execution_count": 30,
   "id": "0a1aadd1",
   "metadata": {},
   "outputs": [
    {
     "name": "stdout",
     "output_type": "stream",
     "text": [
      "0.45098039215686275\n"
     ]
    }
   ],
   "source": [
    "print(metrics.accuracy_score(y_test.detach().numpy(), net.predict(X_test).detach().numpy()))"
   ]
  },
  {
   "cell_type": "code",
   "execution_count": null,
   "id": "ef30073d",
   "metadata": {},
   "outputs": [],
   "source": []
  },
  {
   "cell_type": "code",
   "execution_count": null,
   "id": "3703ce6b",
   "metadata": {},
   "outputs": [],
   "source": []
  }
 ],
 "metadata": {
  "kernelspec": {
   "display_name": "Python 3 (ipykernel)",
   "language": "python",
   "name": "python3"
  },
  "language_info": {
   "codemirror_mode": {
    "name": "ipython",
    "version": 3
   },
   "file_extension": ".py",
   "mimetype": "text/x-python",
   "name": "python",
   "nbconvert_exporter": "python",
   "pygments_lexer": "ipython3",
   "version": "3.11.4"
  }
 },
 "nbformat": 4,
 "nbformat_minor": 5
}
