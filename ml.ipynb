{
 "cells": [
  {
   "cell_type": "code",
   "execution_count": 1,
   "metadata": {
    "collapsed": true
   },
   "outputs": [],
   "source": [
    "import pandas as pd\n",
    "import numpy as np\n",
    "\n",
    "from sklearn import datasets\n",
    "from sklearn.model_selection import train_test_split\n",
    "from sklearn import metrics\n",
    "from sklearn.ensemble import RandomForestClassifier\n",
    "import joblib"
   ]
  },
  {
   "cell_type": "code",
   "execution_count": 2,
   "outputs": [],
   "source": [
    "pd.options.mode.chained_assignment = None"
   ],
   "metadata": {
    "collapsed": false
   }
  },
  {
   "cell_type": "code",
   "execution_count": 16,
   "outputs": [
    {
     "data": {
      "text/plain": "     Unnamed: 0  row.names pclass  survived                            name  \\\n0           998        999    3rd         1            McCarthy, Miss Katie   \n1           179        180    1st         0        Millet, Mr Francis Davis   \n2           556        557    2nd         0        Sjostedt, Mr Ernst Adolf   \n3           174        175    1st         0     McCaffry, Mr Thomas Francis   \n4          1232       1233    3rd         0                Strilic, Mr Ivan   \n..          ...        ...    ...       ...                             ...   \n914         455        456    2nd         1              Ilett, Miss Bertha   \n915         634        635    3rd         0       Andreasson, Mr Paul Edvin   \n916        1266       1267    3rd         0  Van Billiard, Mr Austin Blyler   \n917        1246       1247    3rd         0              Thomas, Mr Charles   \n918         670        671    3rd         0       Bengtsson, Mr John Viktor   \n\n      age     embarked                    home.dest room ticket   boat     sex  \n0     NaN          NaN                          NaN  NaN    NaN    NaN  female  \n1    65.0  Southampton         East Bridgewater, MA  NaN    NaN  (249)    male  \n2    59.0  Southampton           Sault St Marie, ON  NaN    NaN    NaN    male  \n3    46.0    Cherbourg                Vancouver, BC  NaN    NaN  (292)    male  \n4     NaN          NaN                          NaN  NaN    NaN    NaN    male  \n..    ...          ...                          ...  ...    ...    ...     ...  \n914  17.0  Southampton                     Guernsey  NaN    NaN    NaN  female  \n915  20.0  Southampton           Sweden Chicago, IL  NaN    NaN    NaN    male  \n916   NaN          NaN                          NaN  NaN    NaN    NaN    male  \n917   NaN          NaN                          NaN  NaN    NaN    NaN    male  \n918  26.0  Southampton  Krakudden, Sweden Moune, IL  NaN    NaN    NaN    male  \n\n[919 rows x 12 columns]",
      "text/html": "<div>\n<style scoped>\n    .dataframe tbody tr th:only-of-type {\n        vertical-align: middle;\n    }\n\n    .dataframe tbody tr th {\n        vertical-align: top;\n    }\n\n    .dataframe thead th {\n        text-align: right;\n    }\n</style>\n<table border=\"1\" class=\"dataframe\">\n  <thead>\n    <tr style=\"text-align: right;\">\n      <th></th>\n      <th>Unnamed: 0</th>\n      <th>row.names</th>\n      <th>pclass</th>\n      <th>survived</th>\n      <th>name</th>\n      <th>age</th>\n      <th>embarked</th>\n      <th>home.dest</th>\n      <th>room</th>\n      <th>ticket</th>\n      <th>boat</th>\n      <th>sex</th>\n    </tr>\n  </thead>\n  <tbody>\n    <tr>\n      <th>0</th>\n      <td>998</td>\n      <td>999</td>\n      <td>3rd</td>\n      <td>1</td>\n      <td>McCarthy, Miss Katie</td>\n      <td>NaN</td>\n      <td>NaN</td>\n      <td>NaN</td>\n      <td>NaN</td>\n      <td>NaN</td>\n      <td>NaN</td>\n      <td>female</td>\n    </tr>\n    <tr>\n      <th>1</th>\n      <td>179</td>\n      <td>180</td>\n      <td>1st</td>\n      <td>0</td>\n      <td>Millet, Mr Francis Davis</td>\n      <td>65.0</td>\n      <td>Southampton</td>\n      <td>East Bridgewater, MA</td>\n      <td>NaN</td>\n      <td>NaN</td>\n      <td>(249)</td>\n      <td>male</td>\n    </tr>\n    <tr>\n      <th>2</th>\n      <td>556</td>\n      <td>557</td>\n      <td>2nd</td>\n      <td>0</td>\n      <td>Sjostedt, Mr Ernst Adolf</td>\n      <td>59.0</td>\n      <td>Southampton</td>\n      <td>Sault St Marie, ON</td>\n      <td>NaN</td>\n      <td>NaN</td>\n      <td>NaN</td>\n      <td>male</td>\n    </tr>\n    <tr>\n      <th>3</th>\n      <td>174</td>\n      <td>175</td>\n      <td>1st</td>\n      <td>0</td>\n      <td>McCaffry, Mr Thomas Francis</td>\n      <td>46.0</td>\n      <td>Cherbourg</td>\n      <td>Vancouver, BC</td>\n      <td>NaN</td>\n      <td>NaN</td>\n      <td>(292)</td>\n      <td>male</td>\n    </tr>\n    <tr>\n      <th>4</th>\n      <td>1232</td>\n      <td>1233</td>\n      <td>3rd</td>\n      <td>0</td>\n      <td>Strilic, Mr Ivan</td>\n      <td>NaN</td>\n      <td>NaN</td>\n      <td>NaN</td>\n      <td>NaN</td>\n      <td>NaN</td>\n      <td>NaN</td>\n      <td>male</td>\n    </tr>\n    <tr>\n      <th>...</th>\n      <td>...</td>\n      <td>...</td>\n      <td>...</td>\n      <td>...</td>\n      <td>...</td>\n      <td>...</td>\n      <td>...</td>\n      <td>...</td>\n      <td>...</td>\n      <td>...</td>\n      <td>...</td>\n      <td>...</td>\n    </tr>\n    <tr>\n      <th>914</th>\n      <td>455</td>\n      <td>456</td>\n      <td>2nd</td>\n      <td>1</td>\n      <td>Ilett, Miss Bertha</td>\n      <td>17.0</td>\n      <td>Southampton</td>\n      <td>Guernsey</td>\n      <td>NaN</td>\n      <td>NaN</td>\n      <td>NaN</td>\n      <td>female</td>\n    </tr>\n    <tr>\n      <th>915</th>\n      <td>634</td>\n      <td>635</td>\n      <td>3rd</td>\n      <td>0</td>\n      <td>Andreasson, Mr Paul Edvin</td>\n      <td>20.0</td>\n      <td>Southampton</td>\n      <td>Sweden Chicago, IL</td>\n      <td>NaN</td>\n      <td>NaN</td>\n      <td>NaN</td>\n      <td>male</td>\n    </tr>\n    <tr>\n      <th>916</th>\n      <td>1266</td>\n      <td>1267</td>\n      <td>3rd</td>\n      <td>0</td>\n      <td>Van Billiard, Mr Austin Blyler</td>\n      <td>NaN</td>\n      <td>NaN</td>\n      <td>NaN</td>\n      <td>NaN</td>\n      <td>NaN</td>\n      <td>NaN</td>\n      <td>male</td>\n    </tr>\n    <tr>\n      <th>917</th>\n      <td>1246</td>\n      <td>1247</td>\n      <td>3rd</td>\n      <td>0</td>\n      <td>Thomas, Mr Charles</td>\n      <td>NaN</td>\n      <td>NaN</td>\n      <td>NaN</td>\n      <td>NaN</td>\n      <td>NaN</td>\n      <td>NaN</td>\n      <td>male</td>\n    </tr>\n    <tr>\n      <th>918</th>\n      <td>670</td>\n      <td>671</td>\n      <td>3rd</td>\n      <td>0</td>\n      <td>Bengtsson, Mr John Viktor</td>\n      <td>26.0</td>\n      <td>Southampton</td>\n      <td>Krakudden, Sweden Moune, IL</td>\n      <td>NaN</td>\n      <td>NaN</td>\n      <td>NaN</td>\n      <td>male</td>\n    </tr>\n  </tbody>\n</table>\n<p>919 rows × 12 columns</p>\n</div>"
     },
     "execution_count": 16,
     "metadata": {},
     "output_type": "execute_result"
    }
   ],
   "source": [
    "df = pd.read_csv(\"data/titanic_train.csv\")\n",
    "df"
   ],
   "metadata": {
    "collapsed": false
   }
  },
  {
   "cell_type": "code",
   "execution_count": 11,
   "outputs": [],
   "source": [
    "X = df[[\"pclass\", \"age\", \"sex\"]]\n",
    "y = df['survived']"
   ],
   "metadata": {
    "collapsed": false
   }
  },
  {
   "cell_type": "code",
   "execution_count": 12,
   "outputs": [
    {
     "data": {
      "text/plain": "    pclass   age     sex\n0      3rd  21.0    male\n1      1st  30.5  female\n2      1st  58.0    male\n3      3rd  16.0  female\n4      2nd  42.0    male\n..     ...   ...     ...\n389    1st  48.0  female\n390    3rd  30.5    male\n391    3rd  30.5    male\n392    1st  30.5  female\n393    3rd  30.5    male\n\n[394 rows x 3 columns]",
      "text/html": "<div>\n<style scoped>\n    .dataframe tbody tr th:only-of-type {\n        vertical-align: middle;\n    }\n\n    .dataframe tbody tr th {\n        vertical-align: top;\n    }\n\n    .dataframe thead th {\n        text-align: right;\n    }\n</style>\n<table border=\"1\" class=\"dataframe\">\n  <thead>\n    <tr style=\"text-align: right;\">\n      <th></th>\n      <th>pclass</th>\n      <th>age</th>\n      <th>sex</th>\n    </tr>\n  </thead>\n  <tbody>\n    <tr>\n      <th>0</th>\n      <td>3rd</td>\n      <td>21.0</td>\n      <td>male</td>\n    </tr>\n    <tr>\n      <th>1</th>\n      <td>1st</td>\n      <td>30.5</td>\n      <td>female</td>\n    </tr>\n    <tr>\n      <th>2</th>\n      <td>1st</td>\n      <td>58.0</td>\n      <td>male</td>\n    </tr>\n    <tr>\n      <th>3</th>\n      <td>3rd</td>\n      <td>16.0</td>\n      <td>female</td>\n    </tr>\n    <tr>\n      <th>4</th>\n      <td>2nd</td>\n      <td>42.0</td>\n      <td>male</td>\n    </tr>\n    <tr>\n      <th>...</th>\n      <td>...</td>\n      <td>...</td>\n      <td>...</td>\n    </tr>\n    <tr>\n      <th>389</th>\n      <td>1st</td>\n      <td>48.0</td>\n      <td>female</td>\n    </tr>\n    <tr>\n      <th>390</th>\n      <td>3rd</td>\n      <td>30.5</td>\n      <td>male</td>\n    </tr>\n    <tr>\n      <th>391</th>\n      <td>3rd</td>\n      <td>30.5</td>\n      <td>male</td>\n    </tr>\n    <tr>\n      <th>392</th>\n      <td>1st</td>\n      <td>30.5</td>\n      <td>female</td>\n    </tr>\n    <tr>\n      <th>393</th>\n      <td>3rd</td>\n      <td>30.5</td>\n      <td>male</td>\n    </tr>\n  </tbody>\n</table>\n<p>394 rows × 3 columns</p>\n</div>"
     },
     "execution_count": 12,
     "metadata": {},
     "output_type": "execute_result"
    }
   ],
   "source": [
    "median = X['age'].median()\n",
    "X['age'].fillna(median, inplace=True)\n",
    "X"
   ],
   "metadata": {
    "collapsed": false
   }
  },
  {
   "cell_type": "code",
   "execution_count": 13,
   "outputs": [
    {
     "data": {
      "text/plain": "     pclass   age     sex\n0         3  21.0    male\n1         1  30.5  female\n2         1  58.0    male\n3         3  16.0  female\n4         2  42.0    male\n..      ...   ...     ...\n389       1  48.0  female\n390       3  30.5    male\n391       3  30.5    male\n392       1  30.5  female\n393       3  30.5    male\n\n[394 rows x 3 columns]",
      "text/html": "<div>\n<style scoped>\n    .dataframe tbody tr th:only-of-type {\n        vertical-align: middle;\n    }\n\n    .dataframe tbody tr th {\n        vertical-align: top;\n    }\n\n    .dataframe thead th {\n        text-align: right;\n    }\n</style>\n<table border=\"1\" class=\"dataframe\">\n  <thead>\n    <tr style=\"text-align: right;\">\n      <th></th>\n      <th>pclass</th>\n      <th>age</th>\n      <th>sex</th>\n    </tr>\n  </thead>\n  <tbody>\n    <tr>\n      <th>0</th>\n      <td>3</td>\n      <td>21.0</td>\n      <td>male</td>\n    </tr>\n    <tr>\n      <th>1</th>\n      <td>1</td>\n      <td>30.5</td>\n      <td>female</td>\n    </tr>\n    <tr>\n      <th>2</th>\n      <td>1</td>\n      <td>58.0</td>\n      <td>male</td>\n    </tr>\n    <tr>\n      <th>3</th>\n      <td>3</td>\n      <td>16.0</td>\n      <td>female</td>\n    </tr>\n    <tr>\n      <th>4</th>\n      <td>2</td>\n      <td>42.0</td>\n      <td>male</td>\n    </tr>\n    <tr>\n      <th>...</th>\n      <td>...</td>\n      <td>...</td>\n      <td>...</td>\n    </tr>\n    <tr>\n      <th>389</th>\n      <td>1</td>\n      <td>48.0</td>\n      <td>female</td>\n    </tr>\n    <tr>\n      <th>390</th>\n      <td>3</td>\n      <td>30.5</td>\n      <td>male</td>\n    </tr>\n    <tr>\n      <th>391</th>\n      <td>3</td>\n      <td>30.5</td>\n      <td>male</td>\n    </tr>\n    <tr>\n      <th>392</th>\n      <td>1</td>\n      <td>30.5</td>\n      <td>female</td>\n    </tr>\n    <tr>\n      <th>393</th>\n      <td>3</td>\n      <td>30.5</td>\n      <td>male</td>\n    </tr>\n  </tbody>\n</table>\n<p>394 rows × 3 columns</p>\n</div>"
     },
     "execution_count": 13,
     "metadata": {},
     "output_type": "execute_result"
    }
   ],
   "source": [
    "X['pclass'].replace('3rd', 3, inplace=True)\n",
    "X['pclass'].replace('2nd', 2, inplace=True)\n",
    "X['pclass'].replace('1st', 1, inplace=True)\n",
    "X"
   ],
   "metadata": {
    "collapsed": false
   }
  },
  {
   "cell_type": "code",
   "execution_count": 14,
   "outputs": [],
   "source": [
    "X['sex'] = np.where(X['sex'] == 'female', 0, 1)"
   ],
   "metadata": {
    "collapsed": false
   }
  },
  {
   "cell_type": "code",
   "execution_count": 15,
   "outputs": [],
   "source": [
    "X.to_csv(\"test_data.csv\")"
   ],
   "metadata": {
    "collapsed": false
   }
  },
  {
   "cell_type": "code",
   "execution_count": 25,
   "outputs": [],
   "source": [
    "rf = RandomForestClassifier(n_estimators=100)"
   ],
   "metadata": {
    "collapsed": false
   }
  },
  {
   "cell_type": "code",
   "execution_count": 24,
   "outputs": [],
   "source": [
    "#X_test, y_test = X, y\n",
    "X_train, y_train = X, y"
   ],
   "metadata": {
    "collapsed": false
   }
  },
  {
   "cell_type": "code",
   "execution_count": 26,
   "outputs": [
    {
     "data": {
      "text/plain": "RandomForestClassifier()",
      "text/html": "<style>#sk-container-id-2 {color: black;}#sk-container-id-2 pre{padding: 0;}#sk-container-id-2 div.sk-toggleable {background-color: white;}#sk-container-id-2 label.sk-toggleable__label {cursor: pointer;display: block;width: 100%;margin-bottom: 0;padding: 0.3em;box-sizing: border-box;text-align: center;}#sk-container-id-2 label.sk-toggleable__label-arrow:before {content: \"▸\";float: left;margin-right: 0.25em;color: #696969;}#sk-container-id-2 label.sk-toggleable__label-arrow:hover:before {color: black;}#sk-container-id-2 div.sk-estimator:hover label.sk-toggleable__label-arrow:before {color: black;}#sk-container-id-2 div.sk-toggleable__content {max-height: 0;max-width: 0;overflow: hidden;text-align: left;background-color: #f0f8ff;}#sk-container-id-2 div.sk-toggleable__content pre {margin: 0.2em;color: black;border-radius: 0.25em;background-color: #f0f8ff;}#sk-container-id-2 input.sk-toggleable__control:checked~div.sk-toggleable__content {max-height: 200px;max-width: 100%;overflow: auto;}#sk-container-id-2 input.sk-toggleable__control:checked~label.sk-toggleable__label-arrow:before {content: \"▾\";}#sk-container-id-2 div.sk-estimator input.sk-toggleable__control:checked~label.sk-toggleable__label {background-color: #d4ebff;}#sk-container-id-2 div.sk-label input.sk-toggleable__control:checked~label.sk-toggleable__label {background-color: #d4ebff;}#sk-container-id-2 input.sk-hidden--visually {border: 0;clip: rect(1px 1px 1px 1px);clip: rect(1px, 1px, 1px, 1px);height: 1px;margin: -1px;overflow: hidden;padding: 0;position: absolute;width: 1px;}#sk-container-id-2 div.sk-estimator {font-family: monospace;background-color: #f0f8ff;border: 1px dotted black;border-radius: 0.25em;box-sizing: border-box;margin-bottom: 0.5em;}#sk-container-id-2 div.sk-estimator:hover {background-color: #d4ebff;}#sk-container-id-2 div.sk-parallel-item::after {content: \"\";width: 100%;border-bottom: 1px solid gray;flex-grow: 1;}#sk-container-id-2 div.sk-label:hover label.sk-toggleable__label {background-color: #d4ebff;}#sk-container-id-2 div.sk-serial::before {content: \"\";position: absolute;border-left: 1px solid gray;box-sizing: border-box;top: 0;bottom: 0;left: 50%;z-index: 0;}#sk-container-id-2 div.sk-serial {display: flex;flex-direction: column;align-items: center;background-color: white;padding-right: 0.2em;padding-left: 0.2em;position: relative;}#sk-container-id-2 div.sk-item {position: relative;z-index: 1;}#sk-container-id-2 div.sk-parallel {display: flex;align-items: stretch;justify-content: center;background-color: white;position: relative;}#sk-container-id-2 div.sk-item::before, #sk-container-id-2 div.sk-parallel-item::before {content: \"\";position: absolute;border-left: 1px solid gray;box-sizing: border-box;top: 0;bottom: 0;left: 50%;z-index: -1;}#sk-container-id-2 div.sk-parallel-item {display: flex;flex-direction: column;z-index: 1;position: relative;background-color: white;}#sk-container-id-2 div.sk-parallel-item:first-child::after {align-self: flex-end;width: 50%;}#sk-container-id-2 div.sk-parallel-item:last-child::after {align-self: flex-start;width: 50%;}#sk-container-id-2 div.sk-parallel-item:only-child::after {width: 0;}#sk-container-id-2 div.sk-dashed-wrapped {border: 1px dashed gray;margin: 0 0.4em 0.5em 0.4em;box-sizing: border-box;padding-bottom: 0.4em;background-color: white;}#sk-container-id-2 div.sk-label label {font-family: monospace;font-weight: bold;display: inline-block;line-height: 1.2em;}#sk-container-id-2 div.sk-label-container {text-align: center;}#sk-container-id-2 div.sk-container {/* jupyter's `normalize.less` sets `[hidden] { display: none; }` but bootstrap.min.css set `[hidden] { display: none !important; }` so we also need the `!important` here to be able to override the default hidden behavior on the sphinx rendered scikit-learn.org. See: https://github.com/scikit-learn/scikit-learn/issues/21755 */display: inline-block !important;position: relative;}#sk-container-id-2 div.sk-text-repr-fallback {display: none;}</style><div id=\"sk-container-id-2\" class=\"sk-top-container\"><div class=\"sk-text-repr-fallback\"><pre>RandomForestClassifier()</pre><b>In a Jupyter environment, please rerun this cell to show the HTML representation or trust the notebook. <br />On GitHub, the HTML representation is unable to render, please try loading this page with nbviewer.org.</b></div><div class=\"sk-container\" hidden><div class=\"sk-item\"><div class=\"sk-estimator sk-toggleable\"><input class=\"sk-toggleable__control sk-hidden--visually\" id=\"sk-estimator-id-2\" type=\"checkbox\" checked><label for=\"sk-estimator-id-2\" class=\"sk-toggleable__label sk-toggleable__label-arrow\">RandomForestClassifier</label><div class=\"sk-toggleable__content\"><pre>RandomForestClassifier()</pre></div></div></div></div></div>"
     },
     "execution_count": 26,
     "metadata": {},
     "output_type": "execute_result"
    }
   ],
   "source": [
    "rf.fit(X_train, y_train)"
   ],
   "metadata": {
    "collapsed": false
   }
  },
  {
   "cell_type": "code",
   "execution_count": 30,
   "outputs": [
    {
     "data": {
      "text/plain": "0.8299492385786802"
     },
     "execution_count": 30,
     "metadata": {},
     "output_type": "execute_result"
    }
   ],
   "source": [
    "accuracy = rf.score(X_test, y_test)\n",
    "accuracy"
   ],
   "metadata": {
    "collapsed": false
   }
  },
  {
   "cell_type": "code",
   "execution_count": 34,
   "outputs": [],
   "source": [
    "with open(\"classifier.sav\", \"wb\") as f:\n",
    "    joblib.dump(rf, f)\n"
   ],
   "metadata": {
    "collapsed": false
   }
  },
  {
   "cell_type": "code",
   "execution_count": 35,
   "outputs": [],
   "source": [
    "with open(\"classifier.sav\", \"rb\") as f:\n",
    "    model = joblib.load(f)"
   ],
   "metadata": {
    "collapsed": false
   }
  },
  {
   "cell_type": "code",
   "execution_count": 41,
   "outputs": [],
   "source": [
    "prediction = model.predict(X_test)\n",
    "target = y_test.to_numpy()"
   ],
   "metadata": {
    "collapsed": false
   }
  },
  {
   "cell_type": "code",
   "execution_count": 42,
   "outputs": [
    {
     "name": "stdout",
     "output_type": "stream",
     "text": [
      "              precision    recall  f1-score   support\n",
      "\n",
      "           0      0.839     0.919     0.877       260\n",
      "           1      0.807     0.657     0.724       134\n",
      "\n",
      "    accuracy                          0.830       394\n",
      "   macro avg      0.823     0.788     0.801       394\n",
      "weighted avg      0.828     0.830     0.825       394\n",
      "\n",
      "[[239  21]\n",
      " [ 46  88]]\n"
     ]
    }
   ],
   "source": [
    "print(metrics.classification_report(target, prediction, digits=3))\n",
    "print(metrics.confusion_matrix(target, prediction))"
   ],
   "metadata": {
    "collapsed": false
   }
  },
  {
   "cell_type": "code",
   "execution_count": null,
   "outputs": [],
   "source": [],
   "metadata": {
    "collapsed": false
   }
  }
 ],
 "metadata": {
  "kernelspec": {
   "display_name": "Python 3",
   "language": "python",
   "name": "python3"
  },
  "language_info": {
   "codemirror_mode": {
    "name": "ipython",
    "version": 2
   },
   "file_extension": ".py",
   "mimetype": "text/x-python",
   "name": "python",
   "nbconvert_exporter": "python",
   "pygments_lexer": "ipython2",
   "version": "2.7.6"
  }
 },
 "nbformat": 4,
 "nbformat_minor": 0
}
