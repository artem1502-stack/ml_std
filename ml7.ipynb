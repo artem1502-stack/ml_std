{
 "cells": [
  {
   "cell_type": "code",
   "execution_count": null,
   "metadata": {
    "collapsed": true
   },
   "outputs": [],
   "source": [
    "import pandas as pd\n",
    "import numpy as np\n",
    "\n",
    "from sklearn import datasets\n",
    "from sklearn.model_selection import train_test_split\n",
    "from sklearn import metrics\n",
    "from sklearn.datasets import make_moons, load_iris, load_diabetes\n",
    "\n",
    "import matplotlib.pyplot as plt\n",
    "\n",
    "import joblib\n",
    "import torch\n",
    "import kagglehub\n",
    "import pickle"
   ]
  },
  {
   "cell_type": "code",
   "execution_count": 4,
   "outputs": [],
   "source": [],
   "metadata": {
    "collapsed": false
   }
  },
  {
   "cell_type": "code",
   "execution_count": 5,
   "outputs": [],
   "source": [
    "def train_test_plot(X_train, y_train, X_test, y_test, title1=\"Train\", title2=\"Test\"):\n",
    "    plt.figure(figsize=(16, 7))\n",
    "\n",
    "    ax = plt.subplot(121)\n",
    "    plt.title(title1)\n",
    "    plt.xlabel(\"$x_1$\")\n",
    "    plt.ylabel(\"$x_2$\")\n",
    "    _ = plt.scatter(X_train[:, 0], X_train[:, 1], c=y_train, cmap=\"Set3\", ec='black', alpha=0.85, lw=0.5)\n",
    "\n",
    "    plt.subplot(122, sharex=ax, sharey=ax)\n",
    "    plt.title(title2)\n",
    "    plt.xlabel(\"$x_1$\")\n",
    "    # Если классификатор предсказал вероятность принадлежности первому классу >= 0.5, считаем объект принадлежащим классу 1\n",
    "    # в противном случае - 0\n",
    "    _ = plt.scatter(X_test[:, 0], X_test[:, 1], c=y_test, cmap=\"Set3\", ec='black', alpha=0.85, lw=0.5)\n",
    "\n",
    "def plot_decision_boundary_standart(model, X, y):\n",
    "\n",
    "    margin_x1 = (X[:, 0].max() - X[:, 0].min()) * 0.1\n",
    "    margin_x2 = (X[:, 1].max() - X[:, 1].min()) * 0.1\n",
    "\n",
    "    x_min, x_max = X[:, 0].min() - margin_x1, X[:, 0].max() + margin_x1\n",
    "    y_min, y_max = X[:, 1].min() - margin_x2, X[:, 1].max() + margin_x2\n",
    "    xx, yy = np.meshgrid(np.linspace(x_min, x_max, 501), np.linspace(y_min, y_max, 501))\n",
    "\n",
    "    X_to_pred_on = torch.from_numpy(np.column_stack((xx.ravel(), yy.ravel()))).float()\n",
    "\n",
    "    y_pred = model.predict(X_to_pred_on)\n",
    "\n",
    "    # Reshape preds and plot\n",
    "    y_pred = y_pred.reshape(xx.shape)\n",
    "    plt.contourf(xx, yy, y_pred, cmap=\"Set3\", alpha=0.5)\n",
    "    plt.scatter(X[:, 0], X[:, 1], c=y, s=40, cmap=\"Set3\", ec='black', alpha=1, lw=0.5)\n",
    "\n",
    "    plt.xlabel(\"$x_0$\")\n",
    "    plt.ylabel(\"$x_1$\")\n",
    "\n",
    "    plt.xlim(xx.min(), xx.max())\n",
    "    plt.ylim(yy.min(), yy.max())\n",
    "\n",
    "def plot_decision_boundary_net(model: torch.nn.Module, X: torch.Tensor, y: torch.Tensor):\n",
    "    \"\"\"Plots decision boundaries of model predicting on X in comparison to y.\"\"\"\n",
    "    model.to(\"cpu\")\n",
    "    X, y = X.to(\"cpu\"), y.to(\"cpu\")\n",
    "\n",
    "    margin_x1 = (X[:, 0].max() - X[:, 0].min()) * 0.1\n",
    "    margin_x2 = (X[:, 1].max() - X[:, 1].min()) * 0.1\n",
    "\n",
    "    x_min, x_max = X[:, 0].min() - margin_x1, X[:, 0].max() + margin_x1\n",
    "    y_min, y_max = X[:, 1].min() - margin_x2, X[:, 1].max() + margin_x2\n",
    "    xx, yy = np.meshgrid(np.linspace(x_min, x_max, 501), np.linspace(y_min, y_max, 501))\n",
    "\n",
    "    X_to_pred_on = torch.from_numpy(np.column_stack((xx.ravel(), yy.ravel()))).float()\n",
    "\n",
    "    model.eval()\n",
    "    with torch.inference_mode():\n",
    "        y_logits = model(X_to_pred_on)\n",
    "\n",
    "    if len(torch.unique(y)) > 2:\n",
    "        y_pred = torch.softmax(y_logits, dim=1).argmax(dim=1)\n",
    "    else:\n",
    "        y_pred = torch.round(torch.sigmoid(y_logits))\n",
    "\n",
    "    # Reshape preds and plot\n",
    "    y_pred = y_pred.reshape(xx.shape).detach().numpy()\n",
    "    plt.contourf(xx, yy, y_pred, cmap=\"Set3\", alpha=0.5)\n",
    "    plt.scatter(X[:, 0], X[:, 1], c=y, s=40, cmap=\"Set3\", ec='black', alpha=1, lw=0.5)\n",
    "\n",
    "    plt.xlabel(\"$x_0$\")\n",
    "    plt.ylabel(\"$x_1$\")\n",
    "\n",
    "    plt.xlim(xx.min(), xx.max())\n",
    "    plt.ylim(yy.min(), yy.max())\n",
    "\n",
    "def train_test_model_plot(model, X_train, y_train, X_test, y_test, net=False):\n",
    "    plt.figure(figsize=(16, 7))\n",
    "\n",
    "    plt.subplot(1, 2, 1)\n",
    "    plt.title(\"Train\")\n",
    "    if net:\n",
    "        plot_decision_boundary_net(model, X_train, y_train)\n",
    "    else:\n",
    "        plot_decision_boundary_standart(model, X_train, y_train)\n",
    "\n",
    "    plt.subplot(1, 2, 2)\n",
    "    plt.title(\"Test\")\n",
    "    if net:\n",
    "        plot_decision_boundary_net(model, X_test, y_test)\n",
    "    else:\n",
    "        plot_decision_boundary_standart(model, X_test, y_test)"
   ],
   "metadata": {
    "collapsed": false
   }
  },
  {
   "cell_type": "code",
   "execution_count": 6,
   "outputs": [
    {
     "data": {
      "text/plain": "            asin                                              title   price  \\\n0     B0DJK7NW1J  15.6 Inch Laptops, Windows 11 Laptop Computers...  199.98   \n1     B0BS4BP8FB  Acer Aspire 3 A315-24P-R7VH Slim Laptop | 15.6...  279.99   \n2     B0DKDY78K3  Newest Gaming Laptop, Laptop with AMD Ryzen 7 ...  649.99   \n3     B0CPL25J3W  HP Portable Laptop, Student and Business, 14\" ...  197.35   \n4     B0947BJ67M  HP 14 Laptop, Intel Celeron N4020, 4 GB RAM, 6...  176.00   \n...          ...                                                ...     ...   \n1237  B0B5GRGCX5  Lenovo L15 Portable Monitor, 15.6” Display, Fu...  162.00   \n1238  B0CH9XW8RK  ARZOPA Portable Monitor 15.6'' FHD 1080P - Ult...   85.99   \n1239  B0CY896H5G  Laptop Screen Extender 14\" 1080P FHD IPS, Port...  299.99   \n1240  B0C77WJ6F5  Yodoit Portable Monitor for Laptop 1920×1080 1...   49.99   \n1241  B0966YYP65  ASUS ZenScreen 15.6” 1080P Portable Monitor (M...  199.99   \n\n     list_price              rating reviews sold_past_month  is_bestseller  \\\n0        679.99  4.4 out of 5 stars      48            100+          False   \n1        321.99  4.4 out of 5 stars  39,243             8K+          False   \n2      1,699.99  4.8 out of 5 stars      18            100+          False   \n3        269.00  4.1 out of 5 stars   1,678             1K+          False   \n4        209.99  4.0 out of 5 stars   1,861             4K+          False   \n...         ...                 ...     ...             ...            ...   \n1237     180.44  4.3 out of 5 stars      46            500+          False   \n1238        NaN  4.4 out of 5 stars   1,092             3K+          False   \n1239        NaN  4.4 out of 5 stars     422             1K+          False   \n1240      69.99  4.0 out of 5 stars     416             1K+          False   \n1241        NaN  4.3 out of 5 stars     854            400+          False   \n\n      is_prime  is_amazon_choice  has_sustainability_features  \\\n0        False             False                        False   \n1        False              True                        False   \n2        False             False                        False   \n3        False             False                        False   \n4        False             False                        False   \n...        ...               ...                          ...   \n1237     False             False                        False   \n1238      True             False                        False   \n1239      True             False                        False   \n1240      True             False                        False   \n1241      True             False                        False   \n\n     available_offers amazon_choice_type brand free_delivery_date  \\\n0                 NaN                NaN   NaN                NaN   \n1                   6       Overall Pick   NaN                NaN   \n2                 NaN                NaN   NaN                NaN   \n3                  25                NaN   NaN                NaN   \n4                  50                NaN   NaN                NaN   \n...               ...                ...   ...                ...   \n1237               28                NaN   NaN                NaN   \n1238                4                NaN   NaN        Tue, Nov 19   \n1239                3                NaN   NaN        Tue, Nov 19   \n1240              NaN                NaN   NaN        Tue, Nov 19   \n1241               41                NaN   NaN        Tue, Nov 19   \n\n     fastest_delivery_date  \n0                      NaN  \n1                      NaN  \n2                      NaN  \n3                      NaN  \n4                      NaN  \n...                    ...  \n1237                   NaN  \n1238                   NaN  \n1239                   NaN  \n1240                   NaN  \n1241                   NaN  \n\n[1242 rows x 16 columns]",
      "text/html": "<div>\n<style scoped>\n    .dataframe tbody tr th:only-of-type {\n        vertical-align: middle;\n    }\n\n    .dataframe tbody tr th {\n        vertical-align: top;\n    }\n\n    .dataframe thead th {\n        text-align: right;\n    }\n</style>\n<table border=\"1\" class=\"dataframe\">\n  <thead>\n    <tr style=\"text-align: right;\">\n      <th></th>\n      <th>asin</th>\n      <th>title</th>\n      <th>price</th>\n      <th>list_price</th>\n      <th>rating</th>\n      <th>reviews</th>\n      <th>sold_past_month</th>\n      <th>is_bestseller</th>\n      <th>is_prime</th>\n      <th>is_amazon_choice</th>\n      <th>has_sustainability_features</th>\n      <th>available_offers</th>\n      <th>amazon_choice_type</th>\n      <th>brand</th>\n      <th>free_delivery_date</th>\n      <th>fastest_delivery_date</th>\n    </tr>\n  </thead>\n  <tbody>\n    <tr>\n      <th>0</th>\n      <td>B0DJK7NW1J</td>\n      <td>15.6 Inch Laptops, Windows 11 Laptop Computers...</td>\n      <td>199.98</td>\n      <td>679.99</td>\n      <td>4.4 out of 5 stars</td>\n      <td>48</td>\n      <td>100+</td>\n      <td>False</td>\n      <td>False</td>\n      <td>False</td>\n      <td>False</td>\n      <td>NaN</td>\n      <td>NaN</td>\n      <td>NaN</td>\n      <td>NaN</td>\n      <td>NaN</td>\n    </tr>\n    <tr>\n      <th>1</th>\n      <td>B0BS4BP8FB</td>\n      <td>Acer Aspire 3 A315-24P-R7VH Slim Laptop | 15.6...</td>\n      <td>279.99</td>\n      <td>321.99</td>\n      <td>4.4 out of 5 stars</td>\n      <td>39,243</td>\n      <td>8K+</td>\n      <td>False</td>\n      <td>False</td>\n      <td>True</td>\n      <td>False</td>\n      <td>6</td>\n      <td>Overall Pick</td>\n      <td>NaN</td>\n      <td>NaN</td>\n      <td>NaN</td>\n    </tr>\n    <tr>\n      <th>2</th>\n      <td>B0DKDY78K3</td>\n      <td>Newest Gaming Laptop, Laptop with AMD Ryzen 7 ...</td>\n      <td>649.99</td>\n      <td>1,699.99</td>\n      <td>4.8 out of 5 stars</td>\n      <td>18</td>\n      <td>100+</td>\n      <td>False</td>\n      <td>False</td>\n      <td>False</td>\n      <td>False</td>\n      <td>NaN</td>\n      <td>NaN</td>\n      <td>NaN</td>\n      <td>NaN</td>\n      <td>NaN</td>\n    </tr>\n    <tr>\n      <th>3</th>\n      <td>B0CPL25J3W</td>\n      <td>HP Portable Laptop, Student and Business, 14\" ...</td>\n      <td>197.35</td>\n      <td>269.00</td>\n      <td>4.1 out of 5 stars</td>\n      <td>1,678</td>\n      <td>1K+</td>\n      <td>False</td>\n      <td>False</td>\n      <td>False</td>\n      <td>False</td>\n      <td>25</td>\n      <td>NaN</td>\n      <td>NaN</td>\n      <td>NaN</td>\n      <td>NaN</td>\n    </tr>\n    <tr>\n      <th>4</th>\n      <td>B0947BJ67M</td>\n      <td>HP 14 Laptop, Intel Celeron N4020, 4 GB RAM, 6...</td>\n      <td>176.00</td>\n      <td>209.99</td>\n      <td>4.0 out of 5 stars</td>\n      <td>1,861</td>\n      <td>4K+</td>\n      <td>False</td>\n      <td>False</td>\n      <td>False</td>\n      <td>False</td>\n      <td>50</td>\n      <td>NaN</td>\n      <td>NaN</td>\n      <td>NaN</td>\n      <td>NaN</td>\n    </tr>\n    <tr>\n      <th>...</th>\n      <td>...</td>\n      <td>...</td>\n      <td>...</td>\n      <td>...</td>\n      <td>...</td>\n      <td>...</td>\n      <td>...</td>\n      <td>...</td>\n      <td>...</td>\n      <td>...</td>\n      <td>...</td>\n      <td>...</td>\n      <td>...</td>\n      <td>...</td>\n      <td>...</td>\n      <td>...</td>\n    </tr>\n    <tr>\n      <th>1237</th>\n      <td>B0B5GRGCX5</td>\n      <td>Lenovo L15 Portable Monitor, 15.6” Display, Fu...</td>\n      <td>162.00</td>\n      <td>180.44</td>\n      <td>4.3 out of 5 stars</td>\n      <td>46</td>\n      <td>500+</td>\n      <td>False</td>\n      <td>False</td>\n      <td>False</td>\n      <td>False</td>\n      <td>28</td>\n      <td>NaN</td>\n      <td>NaN</td>\n      <td>NaN</td>\n      <td>NaN</td>\n    </tr>\n    <tr>\n      <th>1238</th>\n      <td>B0CH9XW8RK</td>\n      <td>ARZOPA Portable Monitor 15.6'' FHD 1080P - Ult...</td>\n      <td>85.99</td>\n      <td>NaN</td>\n      <td>4.4 out of 5 stars</td>\n      <td>1,092</td>\n      <td>3K+</td>\n      <td>False</td>\n      <td>True</td>\n      <td>False</td>\n      <td>False</td>\n      <td>4</td>\n      <td>NaN</td>\n      <td>NaN</td>\n      <td>Tue, Nov 19</td>\n      <td>NaN</td>\n    </tr>\n    <tr>\n      <th>1239</th>\n      <td>B0CY896H5G</td>\n      <td>Laptop Screen Extender 14\" 1080P FHD IPS, Port...</td>\n      <td>299.99</td>\n      <td>NaN</td>\n      <td>4.4 out of 5 stars</td>\n      <td>422</td>\n      <td>1K+</td>\n      <td>False</td>\n      <td>True</td>\n      <td>False</td>\n      <td>False</td>\n      <td>3</td>\n      <td>NaN</td>\n      <td>NaN</td>\n      <td>Tue, Nov 19</td>\n      <td>NaN</td>\n    </tr>\n    <tr>\n      <th>1240</th>\n      <td>B0C77WJ6F5</td>\n      <td>Yodoit Portable Monitor for Laptop 1920×1080 1...</td>\n      <td>49.99</td>\n      <td>69.99</td>\n      <td>4.0 out of 5 stars</td>\n      <td>416</td>\n      <td>1K+</td>\n      <td>False</td>\n      <td>True</td>\n      <td>False</td>\n      <td>False</td>\n      <td>NaN</td>\n      <td>NaN</td>\n      <td>NaN</td>\n      <td>Tue, Nov 19</td>\n      <td>NaN</td>\n    </tr>\n    <tr>\n      <th>1241</th>\n      <td>B0966YYP65</td>\n      <td>ASUS ZenScreen 15.6” 1080P Portable Monitor (M...</td>\n      <td>199.99</td>\n      <td>NaN</td>\n      <td>4.3 out of 5 stars</td>\n      <td>854</td>\n      <td>400+</td>\n      <td>False</td>\n      <td>True</td>\n      <td>False</td>\n      <td>False</td>\n      <td>41</td>\n      <td>NaN</td>\n      <td>NaN</td>\n      <td>Tue, Nov 19</td>\n      <td>NaN</td>\n    </tr>\n  </tbody>\n</table>\n<p>1242 rows × 16 columns</p>\n</div>"
     },
     "execution_count": 6,
     "metadata": {},
     "output_type": "execute_result"
    }
   ],
   "source": [
    "with open(\"Amazon_products.pkl\", 'rb') as f:\n",
    "    dt = pickle.load(f)\n",
    "\n",
    "dt"
   ],
   "metadata": {
    "collapsed": false
   }
  },
  {
   "cell_type": "code",
   "execution_count": 73,
   "outputs": [],
   "source": [
    "X = dt[[\"price\", \"list_price\", \"rating\", \"reviews\", \"sold_past_month\"]]\n",
    "y = dt[\"is_bestseller\"]\n",
    "all_dt = dt[[\"price\", \"list_price\", \"rating\", \"reviews\", \"sold_past_month\", \"is_bestseller\"]]\n",
    "#\"is_prime\", \"is_amazon_choice\", \"has_sustainability_features\""
   ],
   "metadata": {
    "collapsed": false
   }
  },
  {
   "cell_type": "code",
   "execution_count": 74,
   "outputs": [],
   "source": [
    "def str_to_float(s):\n",
    "    if isinstance(s, str):\n",
    "        s = float(\"\".join(s.split(',')))\n",
    "    return s\n",
    "\n",
    "def stars_to_rating(s):\n",
    "    if isinstance(s, str):\n",
    "        return float(s.split()[0])\n",
    "    return s\n",
    "\n",
    "def spm(s):\n",
    "    if isinstance(s, str):\n",
    "        if s[-2] == \"K\":\n",
    "            return int(s[:-2]) * 1000\n",
    "        return int(s[:-1])\n",
    "    return s"
   ],
   "metadata": {
    "collapsed": false
   }
  },
  {
   "cell_type": "code",
   "execution_count": 75,
   "outputs": [],
   "source": [
    "def upd_dt(X):\n",
    "    #X[\"is_bestseller\"] = X[\"is_bestseller\"].apply(int)\n",
    "    #X[\"is_prime\"] = X[\"is_prime\"].apply(int)\n",
    "    #X[\"is_amazon_choice\"] = X[\"is_amazon_choice\"].apply(int)\n",
    "    #X[\"has_sustainability_features\"] = X[\"has_sustainability_features\"].apply(int)\n",
    "    X[\"price\"] = X[\"price\"].apply(str_to_float)\n",
    "    X['list_price'] = X[\"list_price\"].apply(str_to_float)\n",
    "    X[\"rating\"] = X['rating'].apply(stars_to_rating)\n",
    "    X['reviews'] = X['reviews'].apply(str_to_float)\n",
    "    X['sold_past_month'] = X['sold_past_month'].apply(spm)\n",
    "    return X"
   ],
   "metadata": {
    "collapsed": false
   }
  },
  {
   "cell_type": "code",
   "execution_count": 76,
   "outputs": [
    {
     "name": "stderr",
     "output_type": "stream",
     "text": [
      "/var/folders/q3/78sc2wx560d0lpbv1cdk0pp80000gn/T/ipykernel_7298/2430389944.py:6: SettingWithCopyWarning: \n",
      "A value is trying to be set on a copy of a slice from a DataFrame.\n",
      "Try using .loc[row_indexer,col_indexer] = value instead\n",
      "\n",
      "See the caveats in the documentation: https://pandas.pydata.org/pandas-docs/stable/user_guide/indexing.html#returning-a-view-versus-a-copy\n",
      "  X[\"price\"] = X[\"price\"].apply(str_to_float)\n",
      "/var/folders/q3/78sc2wx560d0lpbv1cdk0pp80000gn/T/ipykernel_7298/2430389944.py:7: SettingWithCopyWarning: \n",
      "A value is trying to be set on a copy of a slice from a DataFrame.\n",
      "Try using .loc[row_indexer,col_indexer] = value instead\n",
      "\n",
      "See the caveats in the documentation: https://pandas.pydata.org/pandas-docs/stable/user_guide/indexing.html#returning-a-view-versus-a-copy\n",
      "  X['list_price'] = X[\"list_price\"].apply(str_to_float)\n",
      "/var/folders/q3/78sc2wx560d0lpbv1cdk0pp80000gn/T/ipykernel_7298/2430389944.py:8: SettingWithCopyWarning: \n",
      "A value is trying to be set on a copy of a slice from a DataFrame.\n",
      "Try using .loc[row_indexer,col_indexer] = value instead\n",
      "\n",
      "See the caveats in the documentation: https://pandas.pydata.org/pandas-docs/stable/user_guide/indexing.html#returning-a-view-versus-a-copy\n",
      "  X[\"rating\"] = X['rating'].apply(stars_to_rating)\n",
      "/var/folders/q3/78sc2wx560d0lpbv1cdk0pp80000gn/T/ipykernel_7298/2430389944.py:9: SettingWithCopyWarning: \n",
      "A value is trying to be set on a copy of a slice from a DataFrame.\n",
      "Try using .loc[row_indexer,col_indexer] = value instead\n",
      "\n",
      "See the caveats in the documentation: https://pandas.pydata.org/pandas-docs/stable/user_guide/indexing.html#returning-a-view-versus-a-copy\n",
      "  X['reviews'] = X['reviews'].apply(str_to_float)\n",
      "/var/folders/q3/78sc2wx560d0lpbv1cdk0pp80000gn/T/ipykernel_7298/2430389944.py:10: SettingWithCopyWarning: \n",
      "A value is trying to be set on a copy of a slice from a DataFrame.\n",
      "Try using .loc[row_indexer,col_indexer] = value instead\n",
      "\n",
      "See the caveats in the documentation: https://pandas.pydata.org/pandas-docs/stable/user_guide/indexing.html#returning-a-view-versus-a-copy\n",
      "  X['sold_past_month'] = X['sold_past_month'].apply(spm)\n"
     ]
    }
   ],
   "source": [
    "all_dt = upd_dt(all_dt)"
   ],
   "metadata": {
    "collapsed": false
   }
  },
  {
   "cell_type": "code",
   "execution_count": 78,
   "outputs": [],
   "source": [
    "all_dt1 = all_dt.dropna()\n",
    "all_dt2 = all_dt.copy()"
   ],
   "metadata": {
    "collapsed": false
   }
  },
  {
   "cell_type": "code",
   "execution_count": 77,
   "outputs": [],
   "source": [],
   "metadata": {
    "collapsed": false
   }
  },
  {
   "cell_type": "code",
   "execution_count": 91,
   "outputs": [
    {
     "data": {
      "text/plain": "       price   list_price  rating  reviews  sold_past_month  is_bestseller\n0     199.98   679.990000     4.4     48.0            100.0          False\n1     279.99   321.990000     4.4  39243.0           8000.0          False\n2     649.99  1699.990000     4.8     18.0            100.0          False\n3     197.35   269.000000     4.1   1678.0           1000.0          False\n4     176.00   209.990000     4.0   1861.0           4000.0          False\n...      ...          ...     ...      ...              ...            ...\n1237  162.00   180.440000     4.3     46.0            500.0          False\n1238   85.99   209.351644     4.4   1092.0           3000.0          False\n1239  299.99   299.990000     4.4    422.0           1000.0          False\n1240   49.99    69.990000     4.0    416.0           1000.0          False\n1241  199.99   209.351644     4.3    854.0            400.0          False\n\n[1242 rows x 6 columns]",
      "text/html": "<div>\n<style scoped>\n    .dataframe tbody tr th:only-of-type {\n        vertical-align: middle;\n    }\n\n    .dataframe tbody tr th {\n        vertical-align: top;\n    }\n\n    .dataframe thead th {\n        text-align: right;\n    }\n</style>\n<table border=\"1\" class=\"dataframe\">\n  <thead>\n    <tr style=\"text-align: right;\">\n      <th></th>\n      <th>price</th>\n      <th>list_price</th>\n      <th>rating</th>\n      <th>reviews</th>\n      <th>sold_past_month</th>\n      <th>is_bestseller</th>\n    </tr>\n  </thead>\n  <tbody>\n    <tr>\n      <th>0</th>\n      <td>199.98</td>\n      <td>679.990000</td>\n      <td>4.4</td>\n      <td>48.0</td>\n      <td>100.0</td>\n      <td>False</td>\n    </tr>\n    <tr>\n      <th>1</th>\n      <td>279.99</td>\n      <td>321.990000</td>\n      <td>4.4</td>\n      <td>39243.0</td>\n      <td>8000.0</td>\n      <td>False</td>\n    </tr>\n    <tr>\n      <th>2</th>\n      <td>649.99</td>\n      <td>1699.990000</td>\n      <td>4.8</td>\n      <td>18.0</td>\n      <td>100.0</td>\n      <td>False</td>\n    </tr>\n    <tr>\n      <th>3</th>\n      <td>197.35</td>\n      <td>269.000000</td>\n      <td>4.1</td>\n      <td>1678.0</td>\n      <td>1000.0</td>\n      <td>False</td>\n    </tr>\n    <tr>\n      <th>4</th>\n      <td>176.00</td>\n      <td>209.990000</td>\n      <td>4.0</td>\n      <td>1861.0</td>\n      <td>4000.0</td>\n      <td>False</td>\n    </tr>\n    <tr>\n      <th>...</th>\n      <td>...</td>\n      <td>...</td>\n      <td>...</td>\n      <td>...</td>\n      <td>...</td>\n      <td>...</td>\n    </tr>\n    <tr>\n      <th>1237</th>\n      <td>162.00</td>\n      <td>180.440000</td>\n      <td>4.3</td>\n      <td>46.0</td>\n      <td>500.0</td>\n      <td>False</td>\n    </tr>\n    <tr>\n      <th>1238</th>\n      <td>85.99</td>\n      <td>209.351644</td>\n      <td>4.4</td>\n      <td>1092.0</td>\n      <td>3000.0</td>\n      <td>False</td>\n    </tr>\n    <tr>\n      <th>1239</th>\n      <td>299.99</td>\n      <td>299.990000</td>\n      <td>4.4</td>\n      <td>422.0</td>\n      <td>1000.0</td>\n      <td>False</td>\n    </tr>\n    <tr>\n      <th>1240</th>\n      <td>49.99</td>\n      <td>69.990000</td>\n      <td>4.0</td>\n      <td>416.0</td>\n      <td>1000.0</td>\n      <td>False</td>\n    </tr>\n    <tr>\n      <th>1241</th>\n      <td>199.99</td>\n      <td>209.351644</td>\n      <td>4.3</td>\n      <td>854.0</td>\n      <td>400.0</td>\n      <td>False</td>\n    </tr>\n  </tbody>\n</table>\n<p>1242 rows × 6 columns</p>\n</div>"
     },
     "execution_count": 91,
     "metadata": {},
     "output_type": "execute_result"
    }
   ],
   "source": [
    "mean_price = all_dt2['price'].mean()\n",
    "mean_lprice = all_dt2['list_price'].mean()\n",
    "mean_rating = all_dt2[\"rating\"].mean()\n",
    "mean_reviews = all_dt2[\"reviews\"].mean()\n",
    "mean_spm = all_dt2[\"sold_past_month\"].mean()\n",
    "\n",
    "all_dt2['price'].interpolate(method='linear', inplace=True)\n",
    "all_dt2['list_price'].interpolate(method='linear', inplace=True)\n",
    "all_dt2[\"rating\"].fillna(mean_rating, inplace=True)\n",
    "all_dt2[\"reviews\"].fillna(mean_reviews, inplace=True)\n",
    "all_dt2[\"sold_past_month\"].fillna(mean_spm, inplace=True)\n",
    "\n",
    "all_dt2['list_price'] = all_dt2[['list_price', 'price']].apply(lambda x: x['list_price'] if x['list_price'] > x['price'] else x['price'], axis=1)\n",
    "all_dt2"
   ],
   "metadata": {
    "collapsed": false
   }
  },
  {
   "cell_type": "code",
   "execution_count": 87,
   "outputs": [
    {
     "name": "stdout",
     "output_type": "stream",
     "text": [
      "[[1.99980e+02 6.79990e+02 4.40000e+00 4.80000e+01 1.00000e+02]\n",
      " [2.79990e+02 3.21990e+02 4.40000e+00 3.92430e+04 8.00000e+03]\n",
      " [6.49990e+02 1.69999e+03 4.80000e+00 1.80000e+01 1.00000e+02]\n",
      " ...\n",
      " [8.39900e+01 9.99900e+01 4.90000e+00 9.30000e+01 5.00000e+02]\n",
      " [1.62000e+02 1.80440e+02 4.30000e+00 4.60000e+01 5.00000e+02]\n",
      " [4.99900e+01 6.99900e+01 4.00000e+00 4.16000e+02 1.00000e+03]]\n"
     ]
    }
   ],
   "source": [
    "print(all_dt1[[\"price\", \"list_price\", \"rating\", \"reviews\", \"sold_past_month\"]].to_numpy())"
   ],
   "metadata": {
    "collapsed": false
   }
  },
  {
   "cell_type": "code",
   "execution_count": 92,
   "outputs": [],
   "source": [
    "X1 = torch.Tensor(all_dt1[[\"price\", \"list_price\", \"rating\", \"reviews\", \"sold_past_month\"]].to_numpy())\n",
    "y1 = torch.Tensor(all_dt1[\"is_bestseller\"].to_numpy())\n",
    "\n",
    "X2 = torch.Tensor(all_dt2[[\"price\", \"list_price\", \"rating\", \"reviews\", \"sold_past_month\"]].to_numpy())\n",
    "y2 = torch.Tensor(all_dt2[\"is_bestseller\"].to_numpy())"
   ],
   "metadata": {
    "collapsed": false
   }
  },
  {
   "cell_type": "code",
   "execution_count": 93,
   "outputs": [],
   "source": [
    "X1_train, X1_test, y1_train, y1_test = train_test_split(X1, y1, test_size=0.25)\n",
    "X2_train, X2_test, y2_train, y2_test = train_test_split(X2, y2, test_size=0.25)"
   ],
   "metadata": {
    "collapsed": false
   }
  },
  {
   "cell_type": "code",
   "execution_count": 94,
   "outputs": [
    {
     "data": {
      "text/plain": "tensor([0., 0., 0., 0., 0., 0., 0., 0., 0., 0., 1., 0., 1., 0., 0., 0., 0., 1.,\n        0., 0., 0., 0., 0., 0., 0., 0., 0., 0., 0., 0., 0., 0., 0., 0., 0., 0.,\n        0., 0., 0., 0., 0., 0., 0., 0., 0., 0., 0., 1., 0., 0., 0., 0., 0., 0.,\n        0., 0., 0., 0., 0., 0., 0., 0., 0., 0., 0., 0., 0., 0., 0., 0., 0., 0.,\n        0., 0., 0., 1., 0., 0., 0., 0., 0., 0., 0., 0., 0., 0., 0., 0., 0., 0.,\n        0., 0., 0., 0., 0., 1., 0., 0., 0., 0., 0., 0., 0., 0., 0., 0., 0., 0.,\n        0., 0., 0., 0., 0., 0., 0., 0., 0., 0., 0., 0., 0., 0., 0., 0., 0., 0.,\n        0., 0., 0., 0., 0., 0., 0., 0., 0., 0., 0., 0., 0., 0., 0., 0., 0., 1.,\n        0., 0., 0., 1., 1., 0., 0., 0., 0., 0., 0., 0., 0., 0., 0., 0., 1., 0.,\n        0., 0., 0., 0., 0., 0., 0., 0., 0., 0., 0., 0., 0., 0., 0., 0., 1., 0.,\n        0., 0., 0., 0., 0., 0., 0., 0., 0., 0., 0., 0., 0., 0., 0., 0., 0., 0.,\n        0., 0., 0., 0., 0., 0., 0., 0., 1., 0., 0., 0., 0., 0., 0., 0., 0., 0.,\n        0., 0., 0., 0., 0., 0., 1., 0., 0., 0., 0., 0., 0., 0., 0., 0., 0., 0.,\n        0., 0., 0., 0., 0., 0., 0., 0., 0., 0., 0., 0., 0., 0., 0., 0., 0., 0.,\n        0., 0., 0., 0., 0., 0., 0., 0., 0., 0., 0., 0., 1., 0., 0., 0., 0., 0.,\n        0., 0., 0., 0., 0., 0., 0., 0., 0., 0., 0., 0., 0., 0., 0., 0., 0., 1.,\n        0., 0., 0., 0., 1., 1., 0., 0., 0., 0., 0., 0., 0., 0., 0., 0., 0., 0.,\n        0., 0., 0., 0., 0., 0., 0., 0., 0., 0., 0., 0., 0., 0., 0., 0., 0., 0.,\n        0., 0., 0., 0., 0., 0., 0., 0., 0., 0., 0., 0., 0., 0., 0., 0., 0., 0.,\n        0., 0., 0., 0., 0., 0., 0., 0., 0., 0., 0., 0., 0., 0., 0., 0., 0., 0.,\n        0., 0., 0., 0., 0., 0., 0., 0., 0., 0., 0., 0., 0., 0., 0., 0., 0., 0.,\n        0., 0., 0., 0., 0., 0., 0., 0., 0., 0., 0., 0., 0., 0., 0., 0., 0., 0.,\n        0., 0., 0., 0., 0., 0., 0., 1., 0., 0., 0., 0., 0., 0., 0., 0., 0., 0.,\n        0., 0., 0., 0., 0., 0., 0., 0., 0., 0., 0., 0., 0., 0., 0., 0., 0., 0.,\n        0., 0., 0., 0., 0., 0., 0., 0., 0., 0., 0., 0., 1., 0., 0., 0., 0., 0.,\n        0., 0., 0., 0., 0., 0., 0., 0., 0., 0., 0., 0., 1., 0., 0., 0., 0., 0.,\n        0., 0.])"
     },
     "execution_count": 94,
     "metadata": {},
     "output_type": "execute_result"
    }
   ],
   "source": [
    "y1_train"
   ],
   "metadata": {
    "collapsed": false
   }
  },
  {
   "cell_type": "code",
   "execution_count": 95,
   "outputs": [],
   "source": [
    "class OurNonLinearNet(torch.nn.Module):\n",
    "    def __init__(self, input_features, out_features, hidden_units):\n",
    "        super().__init__()\n",
    "        self.fc1 = torch.nn.Linear(input_features, hidden_units)\n",
    "        self.relu1 = torch.nn.ReLU()\n",
    "        self.fc2 = torch.nn.Linear(hidden_units, hidden_units)\n",
    "        self.relu2 = torch.nn.ReLU()\n",
    "        self.fc3 = torch.nn.Linear(hidden_units, out_features)\n",
    "\n",
    "\n",
    "    def forward(self, x):\n",
    "        x = self.relu1(self.fc1(x))\n",
    "        x = self.relu2(self.fc2(x))\n",
    "        x = self.fc3(x)\n",
    "        return x\n",
    "\n",
    "\n",
    "    def predict(self, x):\n",
    "        return torch.round(torch.sigmoid(self.forward(x)))\n",
    "\n",
    "\n",
    "    def predict_from_logit(self, x_logit):\n",
    "        return torch.round(torch.sigmoid(x_logit))"
   ],
   "metadata": {
    "collapsed": false
   }
  },
  {
   "cell_type": "code",
   "execution_count": 112,
   "outputs": [],
   "source": [
    "net1 = OurNonLinearNet(5, 1, 800)\n",
    "net2 = OurNonLinearNet(5, 1, 800)\n",
    "loss_fun = torch.nn.BCEWithLogitsLoss()\n",
    "optimizer1 = torch.optim.SGD(net1.parameters(), lr=0.005)#, weight_decay=1.e-2, momentum=0.9\n",
    "optimizer2 = torch.optim.SGD(net2.parameters(), lr=0.005)"
   ],
   "metadata": {
    "collapsed": false
   }
  },
  {
   "cell_type": "code",
   "execution_count": 113,
   "outputs": [],
   "source": [
    "def learn_process(model, optimizer, n_epochs, X_train, y_train):\n",
    "    for epoch in range(n_epochs):\n",
    "\n",
    "        model.train()\n",
    "\n",
    "        y_logits = model(X_train).squeeze()\n",
    "        #y_pred = torch.softmax(y_logits, dim=1).argmax(dim = 1)\n",
    "        loss = loss_fun(y_logits, y_train)\n",
    "\n",
    "\n",
    "        optimizer.zero_grad()\n",
    "        loss.backward()\n",
    "        optimizer.step()\n",
    "\n",
    "        if epoch % 10 == 0:\n",
    "            print(f\"Epoch {epoch}: loss = {loss:.5f}\")"
   ],
   "metadata": {
    "collapsed": false
   }
  },
  {
   "cell_type": "code",
   "execution_count": 114,
   "outputs": [
    {
     "name": "stdout",
     "output_type": "stream",
     "text": [
      "Epoch 0: loss = 805.11914\n",
      "Epoch 10: loss = 40.57550\n",
      "Epoch 20: loss = 1.53824\n",
      "Epoch 30: loss = 0.17598\n",
      "Epoch 40: loss = 0.17598\n",
      "Epoch 50: loss = 0.17598\n",
      "Epoch 60: loss = 0.17598\n",
      "Epoch 70: loss = 0.17598\n",
      "Epoch 80: loss = 0.17598\n",
      "Epoch 90: loss = 0.17598\n",
      "Epoch 100: loss = 0.17598\n",
      "Epoch 110: loss = 0.17598\n",
      "Epoch 120: loss = 0.17598\n",
      "Epoch 130: loss = 0.17598\n",
      "Epoch 140: loss = 0.17598\n",
      "Epoch 150: loss = 0.17598\n",
      "Epoch 160: loss = 0.17598\n",
      "Epoch 170: loss = 0.17598\n",
      "Epoch 180: loss = 0.17598\n",
      "Epoch 190: loss = 0.17598\n",
      "Epoch 200: loss = 0.17598\n",
      "Epoch 210: loss = 0.17598\n",
      "Epoch 220: loss = 0.17598\n",
      "Epoch 230: loss = 0.17598\n",
      "Epoch 240: loss = 0.17598\n",
      "Epoch 250: loss = 0.17598\n",
      "Epoch 260: loss = 0.17598\n",
      "Epoch 270: loss = 0.17598\n",
      "Epoch 280: loss = 0.17598\n",
      "Epoch 290: loss = 0.17598\n",
      "Epoch 300: loss = 0.17598\n",
      "Epoch 310: loss = 0.17598\n",
      "Epoch 320: loss = 0.17598\n",
      "Epoch 330: loss = 0.17598\n",
      "Epoch 340: loss = 0.17598\n",
      "Epoch 350: loss = 0.17598\n",
      "Epoch 360: loss = 0.17598\n",
      "Epoch 370: loss = 0.17598\n",
      "Epoch 380: loss = 0.17598\n",
      "Epoch 390: loss = 0.17598\n",
      "Epoch 400: loss = 0.17598\n",
      "Epoch 410: loss = 0.17598\n",
      "Epoch 420: loss = 0.17598\n",
      "Epoch 430: loss = 0.17598\n",
      "Epoch 440: loss = 0.17598\n",
      "Epoch 450: loss = 0.17598\n",
      "Epoch 460: loss = 0.17598\n",
      "Epoch 470: loss = 0.17598\n",
      "Epoch 480: loss = 0.17598\n",
      "Epoch 490: loss = 0.17598\n",
      "Epoch 500: loss = 0.17598\n",
      "Epoch 510: loss = 0.17598\n",
      "Epoch 520: loss = 0.17598\n",
      "Epoch 530: loss = 0.17598\n",
      "Epoch 540: loss = 0.17598\n",
      "Epoch 550: loss = 0.17598\n",
      "Epoch 560: loss = 0.17598\n",
      "Epoch 570: loss = 0.17598\n",
      "Epoch 580: loss = 0.17598\n",
      "Epoch 590: loss = 0.17598\n",
      "Epoch 600: loss = 0.17598\n",
      "Epoch 610: loss = 0.17598\n",
      "Epoch 620: loss = 0.17598\n",
      "Epoch 630: loss = 0.17598\n",
      "Epoch 640: loss = 0.17598\n",
      "Epoch 650: loss = 0.17598\n",
      "Epoch 660: loss = 0.17598\n",
      "Epoch 670: loss = 0.17598\n",
      "Epoch 680: loss = 0.17598\n",
      "Epoch 690: loss = 0.17598\n",
      "Epoch 700: loss = 0.17598\n",
      "Epoch 710: loss = 0.17598\n",
      "Epoch 720: loss = 0.17598\n",
      "Epoch 730: loss = 0.17598\n",
      "Epoch 740: loss = 0.17598\n",
      "Epoch 750: loss = 0.17598\n",
      "Epoch 760: loss = 0.17598\n",
      "Epoch 770: loss = 0.17598\n",
      "Epoch 780: loss = 0.17598\n",
      "Epoch 790: loss = 0.17598\n",
      "Epoch 800: loss = 0.17598\n",
      "Epoch 810: loss = 0.17598\n",
      "Epoch 820: loss = 0.17598\n",
      "Epoch 830: loss = 0.17598\n",
      "Epoch 840: loss = 0.17598\n",
      "Epoch 850: loss = 0.17598\n",
      "Epoch 860: loss = 0.17598\n",
      "Epoch 870: loss = 0.17598\n",
      "Epoch 880: loss = 0.17598\n",
      "Epoch 890: loss = 0.17598\n",
      "Epoch 900: loss = 0.17598\n",
      "Epoch 910: loss = 0.17598\n",
      "Epoch 920: loss = 0.17598\n",
      "Epoch 930: loss = 0.17598\n",
      "Epoch 940: loss = 0.17598\n",
      "Epoch 950: loss = 0.17598\n",
      "Epoch 960: loss = 0.17598\n",
      "Epoch 970: loss = 0.17598\n",
      "Epoch 980: loss = 0.17598\n",
      "Epoch 990: loss = 0.17598\n",
      "Epoch 0: loss = 55.15374\n",
      "Epoch 10: loss = 20119.77734\n",
      "Epoch 20: loss = 9577.65918\n",
      "Epoch 30: loss = 36135.33594\n",
      "Epoch 40: loss = 28357.53125\n",
      "Epoch 50: loss = 19115.70117\n",
      "Epoch 60: loss = 9874.00293\n",
      "Epoch 70: loss = 643.31305\n",
      "Epoch 80: loss = 0.30728\n",
      "Epoch 90: loss = 0.11975\n",
      "Epoch 100: loss = 0.11975\n",
      "Epoch 110: loss = 0.11975\n",
      "Epoch 120: loss = 0.11975\n",
      "Epoch 130: loss = 0.11975\n",
      "Epoch 140: loss = 0.11975\n",
      "Epoch 150: loss = 0.11975\n",
      "Epoch 160: loss = 0.11975\n",
      "Epoch 170: loss = 0.11975\n",
      "Epoch 180: loss = 0.11975\n",
      "Epoch 190: loss = 0.11975\n",
      "Epoch 200: loss = 0.11975\n",
      "Epoch 210: loss = 0.11975\n",
      "Epoch 220: loss = 0.11975\n",
      "Epoch 230: loss = 0.11975\n",
      "Epoch 240: loss = 0.11975\n",
      "Epoch 250: loss = 0.11975\n",
      "Epoch 260: loss = 0.11975\n",
      "Epoch 270: loss = 0.11975\n",
      "Epoch 280: loss = 0.11975\n",
      "Epoch 290: loss = 0.11975\n",
      "Epoch 300: loss = 0.11975\n",
      "Epoch 310: loss = 0.11975\n",
      "Epoch 320: loss = 0.11975\n",
      "Epoch 330: loss = 0.11975\n",
      "Epoch 340: loss = 0.11975\n",
      "Epoch 350: loss = 0.11975\n",
      "Epoch 360: loss = 0.11975\n",
      "Epoch 370: loss = 0.11975\n",
      "Epoch 380: loss = 0.11975\n",
      "Epoch 390: loss = 0.11975\n",
      "Epoch 400: loss = 0.11975\n",
      "Epoch 410: loss = 0.11975\n",
      "Epoch 420: loss = 0.11975\n",
      "Epoch 430: loss = 0.11975\n",
      "Epoch 440: loss = 0.11975\n",
      "Epoch 450: loss = 0.11975\n",
      "Epoch 460: loss = 0.11975\n",
      "Epoch 470: loss = 0.11975\n",
      "Epoch 480: loss = 0.11975\n",
      "Epoch 490: loss = 0.11975\n",
      "Epoch 500: loss = 0.11975\n",
      "Epoch 510: loss = 0.11975\n",
      "Epoch 520: loss = 0.11975\n",
      "Epoch 530: loss = 0.11975\n",
      "Epoch 540: loss = 0.11975\n",
      "Epoch 550: loss = 0.11975\n",
      "Epoch 560: loss = 0.11975\n",
      "Epoch 570: loss = 0.11975\n",
      "Epoch 580: loss = 0.11975\n",
      "Epoch 590: loss = 0.11975\n",
      "Epoch 600: loss = 0.11975\n",
      "Epoch 610: loss = 0.11975\n",
      "Epoch 620: loss = 0.11975\n",
      "Epoch 630: loss = 0.11975\n",
      "Epoch 640: loss = 0.11975\n",
      "Epoch 650: loss = 0.11975\n",
      "Epoch 660: loss = 0.11975\n",
      "Epoch 670: loss = 0.11975\n",
      "Epoch 680: loss = 0.11975\n",
      "Epoch 690: loss = 0.11975\n",
      "Epoch 700: loss = 0.11975\n",
      "Epoch 710: loss = 0.11975\n",
      "Epoch 720: loss = 0.11975\n",
      "Epoch 730: loss = 0.11975\n",
      "Epoch 740: loss = 0.11975\n",
      "Epoch 750: loss = 0.11975\n",
      "Epoch 760: loss = 0.11975\n",
      "Epoch 770: loss = 0.11975\n",
      "Epoch 780: loss = 0.11975\n",
      "Epoch 790: loss = 0.11975\n",
      "Epoch 800: loss = 0.11975\n",
      "Epoch 810: loss = 0.11975\n",
      "Epoch 820: loss = 0.11975\n",
      "Epoch 830: loss = 0.11975\n",
      "Epoch 840: loss = 0.11975\n",
      "Epoch 850: loss = 0.11975\n",
      "Epoch 860: loss = 0.11975\n",
      "Epoch 870: loss = 0.11975\n",
      "Epoch 880: loss = 0.11975\n",
      "Epoch 890: loss = 0.11975\n",
      "Epoch 900: loss = 0.11975\n",
      "Epoch 910: loss = 0.11975\n",
      "Epoch 920: loss = 0.11975\n",
      "Epoch 930: loss = 0.11975\n",
      "Epoch 940: loss = 0.11975\n",
      "Epoch 950: loss = 0.11975\n",
      "Epoch 960: loss = 0.11975\n",
      "Epoch 970: loss = 0.11975\n",
      "Epoch 980: loss = 0.11975\n",
      "Epoch 990: loss = 0.11975\n"
     ]
    }
   ],
   "source": [
    "learn_process(net1, optimizer1, 1000, X1_train, y1_train)\n",
    "learn_process(net2, optimizer2, 1000, X2_train, y2_train)"
   ],
   "metadata": {
    "collapsed": false
   }
  },
  {
   "cell_type": "code",
   "execution_count": 115,
   "outputs": [],
   "source": [
    "from sklearn.metrics import accuracy_score"
   ],
   "metadata": {
    "collapsed": false
   }
  },
  {
   "cell_type": "code",
   "execution_count": 116,
   "outputs": [
    {
     "name": "stdout",
     "output_type": "stream",
     "text": [
      "0.9426751592356688\n",
      "0.9646302250803859\n"
     ]
    }
   ],
   "source": [
    "print(accuracy_score(y1_test.detach().numpy(), net1.predict(X1_test).detach().numpy()))\n",
    "print(accuracy_score(y2_test.detach().numpy(), net2.predict(X2_test).detach().numpy()))"
   ],
   "metadata": {
    "collapsed": false
   }
  },
  {
   "cell_type": "code",
   "execution_count": null,
   "outputs": [],
   "source": [],
   "metadata": {
    "collapsed": false
   }
  }
 ],
 "metadata": {
  "kernelspec": {
   "display_name": "Python 3",
   "language": "python",
   "name": "python3"
  },
  "language_info": {
   "codemirror_mode": {
    "name": "ipython",
    "version": 2
   },
   "file_extension": ".py",
   "mimetype": "text/x-python",
   "name": "python",
   "nbconvert_exporter": "python",
   "pygments_lexer": "ipython2",
   "version": "2.7.6"
  }
 },
 "nbformat": 4,
 "nbformat_minor": 0
}
